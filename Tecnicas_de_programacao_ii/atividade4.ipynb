{
 "cells": [
  {
   "cell_type": "code",
   "execution_count": 4,
   "metadata": {},
   "outputs": [],
   "source": [
    "import plotly.express as px\n",
    "import numpy as np\n",
    "import pandas as pd"
   ]
  },
  {
   "cell_type": "code",
   "execution_count": 10,
   "metadata": {},
   "outputs": [
    {
     "data": {
      "text/plain": [
       "array([ 2169,  9519,  4007, 11386, 13130, 15001, 14046, 10206, 16144,\n",
       "       11818,   467, 15707, 17831,  2506,  6157,  7754,  8248,  6880,\n",
       "       10350,  6306,  4978, 18939, 19935,  8970,  8034, 18549, 19177,\n",
       "       16119, 10557, 10767,  7694,  3847,  4760,  2061,  1486, 16376,\n",
       "         474, 18514, 12108, 18718,  6230, 19244, 11362,  9020, 15937,\n",
       "        1296,  3019, 18216,  1890, 15219, 17228,  1381,  4902])"
      ]
     },
     "execution_count": 10,
     "metadata": {},
     "output_type": "execute_result"
    }
   ],
   "source": [
    "# Questao 1\n",
    "anos = np.arange(1970,2023)\n",
    "anos\n",
    "valores = np.random.randint(1,20001, len(anos))\n",
    "valores"
   ]
  },
  {
   "cell_type": "code",
   "execution_count": 18,
   "metadata": {},
   "outputs": [
    {
     "data": {
      "application/vnd.plotly.v1+json": {
       "config": {
        "plotlyServerURL": "https://plot.ly"
       },
       "data": [
        {
         "hovertemplate": "x=%{x}<br>y=%{y}<extra></extra>",
         "legendgroup": "",
         "line": {
          "color": "#636efa",
          "dash": "solid"
         },
         "marker": {
          "symbol": "circle"
         },
         "mode": "lines+markers",
         "name": "",
         "orientation": "v",
         "showlegend": false,
         "type": "scatter",
         "x": [
          1970,
          1971,
          1972,
          1973,
          1974,
          1975,
          1976,
          1977,
          1978,
          1979,
          1980,
          1981,
          1982,
          1983,
          1984,
          1985,
          1986,
          1987,
          1988,
          1989,
          1990,
          1991,
          1992,
          1993,
          1994,
          1995,
          1996,
          1997,
          1998,
          1999,
          2000,
          2001,
          2002,
          2003,
          2004,
          2005,
          2006,
          2007,
          2008,
          2009,
          2010,
          2011,
          2012,
          2013,
          2014,
          2015,
          2016,
          2017,
          2018,
          2019,
          2020,
          2021,
          2022
         ],
         "xaxis": "x",
         "y": [
          2169,
          9519,
          4007,
          11386,
          13130,
          15001,
          14046,
          10206,
          16144,
          11818,
          467,
          15707,
          17831,
          2506,
          6157,
          7754,
          8248,
          6880,
          10350,
          6306,
          4978,
          18939,
          19935,
          8970,
          8034,
          18549,
          19177,
          16119,
          10557,
          10767,
          7694,
          3847,
          4760,
          2061,
          1486,
          16376,
          474,
          18514,
          12108,
          18718,
          6230,
          19244,
          11362,
          9020,
          15937,
          1296,
          3019,
          18216,
          1890,
          15219,
          17228,
          1381,
          4902
         ],
         "yaxis": "y"
        }
       ],
       "layout": {
        "legend": {
         "tracegroupgap": 0
        },
        "margin": {
         "t": 60
        },
        "template": {
         "data": {
          "bar": [
           {
            "error_x": {
             "color": "#2a3f5f"
            },
            "error_y": {
             "color": "#2a3f5f"
            },
            "marker": {
             "line": {
              "color": "#E5ECF6",
              "width": 0.5
             },
             "pattern": {
              "fillmode": "overlay",
              "size": 10,
              "solidity": 0.2
             }
            },
            "type": "bar"
           }
          ],
          "barpolar": [
           {
            "marker": {
             "line": {
              "color": "#E5ECF6",
              "width": 0.5
             },
             "pattern": {
              "fillmode": "overlay",
              "size": 10,
              "solidity": 0.2
             }
            },
            "type": "barpolar"
           }
          ],
          "carpet": [
           {
            "aaxis": {
             "endlinecolor": "#2a3f5f",
             "gridcolor": "white",
             "linecolor": "white",
             "minorgridcolor": "white",
             "startlinecolor": "#2a3f5f"
            },
            "baxis": {
             "endlinecolor": "#2a3f5f",
             "gridcolor": "white",
             "linecolor": "white",
             "minorgridcolor": "white",
             "startlinecolor": "#2a3f5f"
            },
            "type": "carpet"
           }
          ],
          "choropleth": [
           {
            "colorbar": {
             "outlinewidth": 0,
             "ticks": ""
            },
            "type": "choropleth"
           }
          ],
          "contour": [
           {
            "colorbar": {
             "outlinewidth": 0,
             "ticks": ""
            },
            "colorscale": [
             [
              0,
              "#0d0887"
             ],
             [
              0.1111111111111111,
              "#46039f"
             ],
             [
              0.2222222222222222,
              "#7201a8"
             ],
             [
              0.3333333333333333,
              "#9c179e"
             ],
             [
              0.4444444444444444,
              "#bd3786"
             ],
             [
              0.5555555555555556,
              "#d8576b"
             ],
             [
              0.6666666666666666,
              "#ed7953"
             ],
             [
              0.7777777777777778,
              "#fb9f3a"
             ],
             [
              0.8888888888888888,
              "#fdca26"
             ],
             [
              1,
              "#f0f921"
             ]
            ],
            "type": "contour"
           }
          ],
          "contourcarpet": [
           {
            "colorbar": {
             "outlinewidth": 0,
             "ticks": ""
            },
            "type": "contourcarpet"
           }
          ],
          "heatmap": [
           {
            "colorbar": {
             "outlinewidth": 0,
             "ticks": ""
            },
            "colorscale": [
             [
              0,
              "#0d0887"
             ],
             [
              0.1111111111111111,
              "#46039f"
             ],
             [
              0.2222222222222222,
              "#7201a8"
             ],
             [
              0.3333333333333333,
              "#9c179e"
             ],
             [
              0.4444444444444444,
              "#bd3786"
             ],
             [
              0.5555555555555556,
              "#d8576b"
             ],
             [
              0.6666666666666666,
              "#ed7953"
             ],
             [
              0.7777777777777778,
              "#fb9f3a"
             ],
             [
              0.8888888888888888,
              "#fdca26"
             ],
             [
              1,
              "#f0f921"
             ]
            ],
            "type": "heatmap"
           }
          ],
          "heatmapgl": [
           {
            "colorbar": {
             "outlinewidth": 0,
             "ticks": ""
            },
            "colorscale": [
             [
              0,
              "#0d0887"
             ],
             [
              0.1111111111111111,
              "#46039f"
             ],
             [
              0.2222222222222222,
              "#7201a8"
             ],
             [
              0.3333333333333333,
              "#9c179e"
             ],
             [
              0.4444444444444444,
              "#bd3786"
             ],
             [
              0.5555555555555556,
              "#d8576b"
             ],
             [
              0.6666666666666666,
              "#ed7953"
             ],
             [
              0.7777777777777778,
              "#fb9f3a"
             ],
             [
              0.8888888888888888,
              "#fdca26"
             ],
             [
              1,
              "#f0f921"
             ]
            ],
            "type": "heatmapgl"
           }
          ],
          "histogram": [
           {
            "marker": {
             "pattern": {
              "fillmode": "overlay",
              "size": 10,
              "solidity": 0.2
             }
            },
            "type": "histogram"
           }
          ],
          "histogram2d": [
           {
            "colorbar": {
             "outlinewidth": 0,
             "ticks": ""
            },
            "colorscale": [
             [
              0,
              "#0d0887"
             ],
             [
              0.1111111111111111,
              "#46039f"
             ],
             [
              0.2222222222222222,
              "#7201a8"
             ],
             [
              0.3333333333333333,
              "#9c179e"
             ],
             [
              0.4444444444444444,
              "#bd3786"
             ],
             [
              0.5555555555555556,
              "#d8576b"
             ],
             [
              0.6666666666666666,
              "#ed7953"
             ],
             [
              0.7777777777777778,
              "#fb9f3a"
             ],
             [
              0.8888888888888888,
              "#fdca26"
             ],
             [
              1,
              "#f0f921"
             ]
            ],
            "type": "histogram2d"
           }
          ],
          "histogram2dcontour": [
           {
            "colorbar": {
             "outlinewidth": 0,
             "ticks": ""
            },
            "colorscale": [
             [
              0,
              "#0d0887"
             ],
             [
              0.1111111111111111,
              "#46039f"
             ],
             [
              0.2222222222222222,
              "#7201a8"
             ],
             [
              0.3333333333333333,
              "#9c179e"
             ],
             [
              0.4444444444444444,
              "#bd3786"
             ],
             [
              0.5555555555555556,
              "#d8576b"
             ],
             [
              0.6666666666666666,
              "#ed7953"
             ],
             [
              0.7777777777777778,
              "#fb9f3a"
             ],
             [
              0.8888888888888888,
              "#fdca26"
             ],
             [
              1,
              "#f0f921"
             ]
            ],
            "type": "histogram2dcontour"
           }
          ],
          "mesh3d": [
           {
            "colorbar": {
             "outlinewidth": 0,
             "ticks": ""
            },
            "type": "mesh3d"
           }
          ],
          "parcoords": [
           {
            "line": {
             "colorbar": {
              "outlinewidth": 0,
              "ticks": ""
             }
            },
            "type": "parcoords"
           }
          ],
          "pie": [
           {
            "automargin": true,
            "type": "pie"
           }
          ],
          "scatter": [
           {
            "fillpattern": {
             "fillmode": "overlay",
             "size": 10,
             "solidity": 0.2
            },
            "type": "scatter"
           }
          ],
          "scatter3d": [
           {
            "line": {
             "colorbar": {
              "outlinewidth": 0,
              "ticks": ""
             }
            },
            "marker": {
             "colorbar": {
              "outlinewidth": 0,
              "ticks": ""
             }
            },
            "type": "scatter3d"
           }
          ],
          "scattercarpet": [
           {
            "marker": {
             "colorbar": {
              "outlinewidth": 0,
              "ticks": ""
             }
            },
            "type": "scattercarpet"
           }
          ],
          "scattergeo": [
           {
            "marker": {
             "colorbar": {
              "outlinewidth": 0,
              "ticks": ""
             }
            },
            "type": "scattergeo"
           }
          ],
          "scattergl": [
           {
            "marker": {
             "colorbar": {
              "outlinewidth": 0,
              "ticks": ""
             }
            },
            "type": "scattergl"
           }
          ],
          "scattermapbox": [
           {
            "marker": {
             "colorbar": {
              "outlinewidth": 0,
              "ticks": ""
             }
            },
            "type": "scattermapbox"
           }
          ],
          "scatterpolar": [
           {
            "marker": {
             "colorbar": {
              "outlinewidth": 0,
              "ticks": ""
             }
            },
            "type": "scatterpolar"
           }
          ],
          "scatterpolargl": [
           {
            "marker": {
             "colorbar": {
              "outlinewidth": 0,
              "ticks": ""
             }
            },
            "type": "scatterpolargl"
           }
          ],
          "scatterternary": [
           {
            "marker": {
             "colorbar": {
              "outlinewidth": 0,
              "ticks": ""
             }
            },
            "type": "scatterternary"
           }
          ],
          "surface": [
           {
            "colorbar": {
             "outlinewidth": 0,
             "ticks": ""
            },
            "colorscale": [
             [
              0,
              "#0d0887"
             ],
             [
              0.1111111111111111,
              "#46039f"
             ],
             [
              0.2222222222222222,
              "#7201a8"
             ],
             [
              0.3333333333333333,
              "#9c179e"
             ],
             [
              0.4444444444444444,
              "#bd3786"
             ],
             [
              0.5555555555555556,
              "#d8576b"
             ],
             [
              0.6666666666666666,
              "#ed7953"
             ],
             [
              0.7777777777777778,
              "#fb9f3a"
             ],
             [
              0.8888888888888888,
              "#fdca26"
             ],
             [
              1,
              "#f0f921"
             ]
            ],
            "type": "surface"
           }
          ],
          "table": [
           {
            "cells": {
             "fill": {
              "color": "#EBF0F8"
             },
             "line": {
              "color": "white"
             }
            },
            "header": {
             "fill": {
              "color": "#C8D4E3"
             },
             "line": {
              "color": "white"
             }
            },
            "type": "table"
           }
          ]
         },
         "layout": {
          "annotationdefaults": {
           "arrowcolor": "#2a3f5f",
           "arrowhead": 0,
           "arrowwidth": 1
          },
          "autotypenumbers": "strict",
          "coloraxis": {
           "colorbar": {
            "outlinewidth": 0,
            "ticks": ""
           }
          },
          "colorscale": {
           "diverging": [
            [
             0,
             "#8e0152"
            ],
            [
             0.1,
             "#c51b7d"
            ],
            [
             0.2,
             "#de77ae"
            ],
            [
             0.3,
             "#f1b6da"
            ],
            [
             0.4,
             "#fde0ef"
            ],
            [
             0.5,
             "#f7f7f7"
            ],
            [
             0.6,
             "#e6f5d0"
            ],
            [
             0.7,
             "#b8e186"
            ],
            [
             0.8,
             "#7fbc41"
            ],
            [
             0.9,
             "#4d9221"
            ],
            [
             1,
             "#276419"
            ]
           ],
           "sequential": [
            [
             0,
             "#0d0887"
            ],
            [
             0.1111111111111111,
             "#46039f"
            ],
            [
             0.2222222222222222,
             "#7201a8"
            ],
            [
             0.3333333333333333,
             "#9c179e"
            ],
            [
             0.4444444444444444,
             "#bd3786"
            ],
            [
             0.5555555555555556,
             "#d8576b"
            ],
            [
             0.6666666666666666,
             "#ed7953"
            ],
            [
             0.7777777777777778,
             "#fb9f3a"
            ],
            [
             0.8888888888888888,
             "#fdca26"
            ],
            [
             1,
             "#f0f921"
            ]
           ],
           "sequentialminus": [
            [
             0,
             "#0d0887"
            ],
            [
             0.1111111111111111,
             "#46039f"
            ],
            [
             0.2222222222222222,
             "#7201a8"
            ],
            [
             0.3333333333333333,
             "#9c179e"
            ],
            [
             0.4444444444444444,
             "#bd3786"
            ],
            [
             0.5555555555555556,
             "#d8576b"
            ],
            [
             0.6666666666666666,
             "#ed7953"
            ],
            [
             0.7777777777777778,
             "#fb9f3a"
            ],
            [
             0.8888888888888888,
             "#fdca26"
            ],
            [
             1,
             "#f0f921"
            ]
           ]
          },
          "colorway": [
           "#636efa",
           "#EF553B",
           "#00cc96",
           "#ab63fa",
           "#FFA15A",
           "#19d3f3",
           "#FF6692",
           "#B6E880",
           "#FF97FF",
           "#FECB52"
          ],
          "font": {
           "color": "#2a3f5f"
          },
          "geo": {
           "bgcolor": "white",
           "lakecolor": "white",
           "landcolor": "#E5ECF6",
           "showlakes": true,
           "showland": true,
           "subunitcolor": "white"
          },
          "hoverlabel": {
           "align": "left"
          },
          "hovermode": "closest",
          "mapbox": {
           "style": "light"
          },
          "paper_bgcolor": "white",
          "plot_bgcolor": "#E5ECF6",
          "polar": {
           "angularaxis": {
            "gridcolor": "white",
            "linecolor": "white",
            "ticks": ""
           },
           "bgcolor": "#E5ECF6",
           "radialaxis": {
            "gridcolor": "white",
            "linecolor": "white",
            "ticks": ""
           }
          },
          "scene": {
           "xaxis": {
            "backgroundcolor": "#E5ECF6",
            "gridcolor": "white",
            "gridwidth": 2,
            "linecolor": "white",
            "showbackground": true,
            "ticks": "",
            "zerolinecolor": "white"
           },
           "yaxis": {
            "backgroundcolor": "#E5ECF6",
            "gridcolor": "white",
            "gridwidth": 2,
            "linecolor": "white",
            "showbackground": true,
            "ticks": "",
            "zerolinecolor": "white"
           },
           "zaxis": {
            "backgroundcolor": "#E5ECF6",
            "gridcolor": "white",
            "gridwidth": 2,
            "linecolor": "white",
            "showbackground": true,
            "ticks": "",
            "zerolinecolor": "white"
           }
          },
          "shapedefaults": {
           "line": {
            "color": "#2a3f5f"
           }
          },
          "ternary": {
           "aaxis": {
            "gridcolor": "white",
            "linecolor": "white",
            "ticks": ""
           },
           "baxis": {
            "gridcolor": "white",
            "linecolor": "white",
            "ticks": ""
           },
           "bgcolor": "#E5ECF6",
           "caxis": {
            "gridcolor": "white",
            "linecolor": "white",
            "ticks": ""
           }
          },
          "title": {
           "x": 0.05
          },
          "xaxis": {
           "automargin": true,
           "gridcolor": "white",
           "linecolor": "white",
           "ticks": "",
           "title": {
            "standoff": 15
           },
           "zerolinecolor": "white",
           "zerolinewidth": 2
          },
          "yaxis": {
           "automargin": true,
           "gridcolor": "white",
           "linecolor": "white",
           "ticks": "",
           "title": {
            "standoff": 15
           },
           "zerolinecolor": "white",
           "zerolinewidth": 2
          }
         }
        },
        "xaxis": {
         "anchor": "y",
         "domain": [
          0,
          1
         ],
         "title": {
          "text": "x"
         }
        },
        "yaxis": {
         "anchor": "x",
         "domain": [
          0,
          1
         ],
         "title": {
          "text": "y"
         }
        }
       }
      }
     },
     "metadata": {},
     "output_type": "display_data"
    }
   ],
   "source": [
    "px.line(x = anos, y = valores, markers = True)"
   ]
  },
  {
   "cell_type": "code",
   "execution_count": 23,
   "metadata": {},
   "outputs": [
    {
     "data": {
      "text/plain": [
       "array([ 45,  63,  82,  42,  87,  37,  66,  50,  47, 100,  13,  67,  55,\n",
       "        91,  31,  21,  52,  75,  74,  47,  90,  83,  19,  87,  91,  43])"
      ]
     },
     "execution_count": 23,
     "metadata": {},
     "output_type": "execute_result"
    }
   ],
   "source": [
    "# Questao 2\n",
    "import string \n",
    "letras = list(string.ascii_lowercase)\n",
    "len(letras)\n",
    "numeros = np.random.randint(10,101, len(letras))\n",
    "numeros\n"
   ]
  },
  {
   "cell_type": "code",
   "execution_count": 25,
   "metadata": {},
   "outputs": [
    {
     "data": {
      "application/vnd.plotly.v1+json": {
       "config": {
        "plotlyServerURL": "https://plot.ly"
       },
       "data": [
        {
         "alignmentgroup": "True",
         "hovertemplate": "x=%{x}<br>y=%{y}<br>text=%{text}<extra></extra>",
         "legendgroup": "",
         "marker": {
          "color": "#636efa",
          "pattern": {
           "shape": ""
          }
         },
         "name": "",
         "offsetgroup": "",
         "orientation": "v",
         "showlegend": false,
         "text": [
          45,
          63,
          82,
          42,
          87,
          37,
          66,
          50,
          47,
          100,
          13,
          67,
          55,
          91,
          31,
          21,
          52,
          75,
          74,
          47,
          90,
          83,
          19,
          87,
          91,
          43
         ],
         "textposition": "auto",
         "type": "bar",
         "x": [
          "a",
          "b",
          "c",
          "d",
          "e",
          "f",
          "g",
          "h",
          "i",
          "j",
          "k",
          "l",
          "m",
          "n",
          "o",
          "p",
          "q",
          "r",
          "s",
          "t",
          "u",
          "v",
          "w",
          "x",
          "y",
          "z"
         ],
         "xaxis": "x",
         "y": [
          45,
          63,
          82,
          42,
          87,
          37,
          66,
          50,
          47,
          100,
          13,
          67,
          55,
          91,
          31,
          21,
          52,
          75,
          74,
          47,
          90,
          83,
          19,
          87,
          91,
          43
         ],
         "yaxis": "y"
        }
       ],
       "layout": {
        "barmode": "relative",
        "legend": {
         "tracegroupgap": 0
        },
        "margin": {
         "t": 60
        },
        "template": {
         "data": {
          "bar": [
           {
            "error_x": {
             "color": "#2a3f5f"
            },
            "error_y": {
             "color": "#2a3f5f"
            },
            "marker": {
             "line": {
              "color": "#E5ECF6",
              "width": 0.5
             },
             "pattern": {
              "fillmode": "overlay",
              "size": 10,
              "solidity": 0.2
             }
            },
            "type": "bar"
           }
          ],
          "barpolar": [
           {
            "marker": {
             "line": {
              "color": "#E5ECF6",
              "width": 0.5
             },
             "pattern": {
              "fillmode": "overlay",
              "size": 10,
              "solidity": 0.2
             }
            },
            "type": "barpolar"
           }
          ],
          "carpet": [
           {
            "aaxis": {
             "endlinecolor": "#2a3f5f",
             "gridcolor": "white",
             "linecolor": "white",
             "minorgridcolor": "white",
             "startlinecolor": "#2a3f5f"
            },
            "baxis": {
             "endlinecolor": "#2a3f5f",
             "gridcolor": "white",
             "linecolor": "white",
             "minorgridcolor": "white",
             "startlinecolor": "#2a3f5f"
            },
            "type": "carpet"
           }
          ],
          "choropleth": [
           {
            "colorbar": {
             "outlinewidth": 0,
             "ticks": ""
            },
            "type": "choropleth"
           }
          ],
          "contour": [
           {
            "colorbar": {
             "outlinewidth": 0,
             "ticks": ""
            },
            "colorscale": [
             [
              0,
              "#0d0887"
             ],
             [
              0.1111111111111111,
              "#46039f"
             ],
             [
              0.2222222222222222,
              "#7201a8"
             ],
             [
              0.3333333333333333,
              "#9c179e"
             ],
             [
              0.4444444444444444,
              "#bd3786"
             ],
             [
              0.5555555555555556,
              "#d8576b"
             ],
             [
              0.6666666666666666,
              "#ed7953"
             ],
             [
              0.7777777777777778,
              "#fb9f3a"
             ],
             [
              0.8888888888888888,
              "#fdca26"
             ],
             [
              1,
              "#f0f921"
             ]
            ],
            "type": "contour"
           }
          ],
          "contourcarpet": [
           {
            "colorbar": {
             "outlinewidth": 0,
             "ticks": ""
            },
            "type": "contourcarpet"
           }
          ],
          "heatmap": [
           {
            "colorbar": {
             "outlinewidth": 0,
             "ticks": ""
            },
            "colorscale": [
             [
              0,
              "#0d0887"
             ],
             [
              0.1111111111111111,
              "#46039f"
             ],
             [
              0.2222222222222222,
              "#7201a8"
             ],
             [
              0.3333333333333333,
              "#9c179e"
             ],
             [
              0.4444444444444444,
              "#bd3786"
             ],
             [
              0.5555555555555556,
              "#d8576b"
             ],
             [
              0.6666666666666666,
              "#ed7953"
             ],
             [
              0.7777777777777778,
              "#fb9f3a"
             ],
             [
              0.8888888888888888,
              "#fdca26"
             ],
             [
              1,
              "#f0f921"
             ]
            ],
            "type": "heatmap"
           }
          ],
          "heatmapgl": [
           {
            "colorbar": {
             "outlinewidth": 0,
             "ticks": ""
            },
            "colorscale": [
             [
              0,
              "#0d0887"
             ],
             [
              0.1111111111111111,
              "#46039f"
             ],
             [
              0.2222222222222222,
              "#7201a8"
             ],
             [
              0.3333333333333333,
              "#9c179e"
             ],
             [
              0.4444444444444444,
              "#bd3786"
             ],
             [
              0.5555555555555556,
              "#d8576b"
             ],
             [
              0.6666666666666666,
              "#ed7953"
             ],
             [
              0.7777777777777778,
              "#fb9f3a"
             ],
             [
              0.8888888888888888,
              "#fdca26"
             ],
             [
              1,
              "#f0f921"
             ]
            ],
            "type": "heatmapgl"
           }
          ],
          "histogram": [
           {
            "marker": {
             "pattern": {
              "fillmode": "overlay",
              "size": 10,
              "solidity": 0.2
             }
            },
            "type": "histogram"
           }
          ],
          "histogram2d": [
           {
            "colorbar": {
             "outlinewidth": 0,
             "ticks": ""
            },
            "colorscale": [
             [
              0,
              "#0d0887"
             ],
             [
              0.1111111111111111,
              "#46039f"
             ],
             [
              0.2222222222222222,
              "#7201a8"
             ],
             [
              0.3333333333333333,
              "#9c179e"
             ],
             [
              0.4444444444444444,
              "#bd3786"
             ],
             [
              0.5555555555555556,
              "#d8576b"
             ],
             [
              0.6666666666666666,
              "#ed7953"
             ],
             [
              0.7777777777777778,
              "#fb9f3a"
             ],
             [
              0.8888888888888888,
              "#fdca26"
             ],
             [
              1,
              "#f0f921"
             ]
            ],
            "type": "histogram2d"
           }
          ],
          "histogram2dcontour": [
           {
            "colorbar": {
             "outlinewidth": 0,
             "ticks": ""
            },
            "colorscale": [
             [
              0,
              "#0d0887"
             ],
             [
              0.1111111111111111,
              "#46039f"
             ],
             [
              0.2222222222222222,
              "#7201a8"
             ],
             [
              0.3333333333333333,
              "#9c179e"
             ],
             [
              0.4444444444444444,
              "#bd3786"
             ],
             [
              0.5555555555555556,
              "#d8576b"
             ],
             [
              0.6666666666666666,
              "#ed7953"
             ],
             [
              0.7777777777777778,
              "#fb9f3a"
             ],
             [
              0.8888888888888888,
              "#fdca26"
             ],
             [
              1,
              "#f0f921"
             ]
            ],
            "type": "histogram2dcontour"
           }
          ],
          "mesh3d": [
           {
            "colorbar": {
             "outlinewidth": 0,
             "ticks": ""
            },
            "type": "mesh3d"
           }
          ],
          "parcoords": [
           {
            "line": {
             "colorbar": {
              "outlinewidth": 0,
              "ticks": ""
             }
            },
            "type": "parcoords"
           }
          ],
          "pie": [
           {
            "automargin": true,
            "type": "pie"
           }
          ],
          "scatter": [
           {
            "fillpattern": {
             "fillmode": "overlay",
             "size": 10,
             "solidity": 0.2
            },
            "type": "scatter"
           }
          ],
          "scatter3d": [
           {
            "line": {
             "colorbar": {
              "outlinewidth": 0,
              "ticks": ""
             }
            },
            "marker": {
             "colorbar": {
              "outlinewidth": 0,
              "ticks": ""
             }
            },
            "type": "scatter3d"
           }
          ],
          "scattercarpet": [
           {
            "marker": {
             "colorbar": {
              "outlinewidth": 0,
              "ticks": ""
             }
            },
            "type": "scattercarpet"
           }
          ],
          "scattergeo": [
           {
            "marker": {
             "colorbar": {
              "outlinewidth": 0,
              "ticks": ""
             }
            },
            "type": "scattergeo"
           }
          ],
          "scattergl": [
           {
            "marker": {
             "colorbar": {
              "outlinewidth": 0,
              "ticks": ""
             }
            },
            "type": "scattergl"
           }
          ],
          "scattermapbox": [
           {
            "marker": {
             "colorbar": {
              "outlinewidth": 0,
              "ticks": ""
             }
            },
            "type": "scattermapbox"
           }
          ],
          "scatterpolar": [
           {
            "marker": {
             "colorbar": {
              "outlinewidth": 0,
              "ticks": ""
             }
            },
            "type": "scatterpolar"
           }
          ],
          "scatterpolargl": [
           {
            "marker": {
             "colorbar": {
              "outlinewidth": 0,
              "ticks": ""
             }
            },
            "type": "scatterpolargl"
           }
          ],
          "scatterternary": [
           {
            "marker": {
             "colorbar": {
              "outlinewidth": 0,
              "ticks": ""
             }
            },
            "type": "scatterternary"
           }
          ],
          "surface": [
           {
            "colorbar": {
             "outlinewidth": 0,
             "ticks": ""
            },
            "colorscale": [
             [
              0,
              "#0d0887"
             ],
             [
              0.1111111111111111,
              "#46039f"
             ],
             [
              0.2222222222222222,
              "#7201a8"
             ],
             [
              0.3333333333333333,
              "#9c179e"
             ],
             [
              0.4444444444444444,
              "#bd3786"
             ],
             [
              0.5555555555555556,
              "#d8576b"
             ],
             [
              0.6666666666666666,
              "#ed7953"
             ],
             [
              0.7777777777777778,
              "#fb9f3a"
             ],
             [
              0.8888888888888888,
              "#fdca26"
             ],
             [
              1,
              "#f0f921"
             ]
            ],
            "type": "surface"
           }
          ],
          "table": [
           {
            "cells": {
             "fill": {
              "color": "#EBF0F8"
             },
             "line": {
              "color": "white"
             }
            },
            "header": {
             "fill": {
              "color": "#C8D4E3"
             },
             "line": {
              "color": "white"
             }
            },
            "type": "table"
           }
          ]
         },
         "layout": {
          "annotationdefaults": {
           "arrowcolor": "#2a3f5f",
           "arrowhead": 0,
           "arrowwidth": 1
          },
          "autotypenumbers": "strict",
          "coloraxis": {
           "colorbar": {
            "outlinewidth": 0,
            "ticks": ""
           }
          },
          "colorscale": {
           "diverging": [
            [
             0,
             "#8e0152"
            ],
            [
             0.1,
             "#c51b7d"
            ],
            [
             0.2,
             "#de77ae"
            ],
            [
             0.3,
             "#f1b6da"
            ],
            [
             0.4,
             "#fde0ef"
            ],
            [
             0.5,
             "#f7f7f7"
            ],
            [
             0.6,
             "#e6f5d0"
            ],
            [
             0.7,
             "#b8e186"
            ],
            [
             0.8,
             "#7fbc41"
            ],
            [
             0.9,
             "#4d9221"
            ],
            [
             1,
             "#276419"
            ]
           ],
           "sequential": [
            [
             0,
             "#0d0887"
            ],
            [
             0.1111111111111111,
             "#46039f"
            ],
            [
             0.2222222222222222,
             "#7201a8"
            ],
            [
             0.3333333333333333,
             "#9c179e"
            ],
            [
             0.4444444444444444,
             "#bd3786"
            ],
            [
             0.5555555555555556,
             "#d8576b"
            ],
            [
             0.6666666666666666,
             "#ed7953"
            ],
            [
             0.7777777777777778,
             "#fb9f3a"
            ],
            [
             0.8888888888888888,
             "#fdca26"
            ],
            [
             1,
             "#f0f921"
            ]
           ],
           "sequentialminus": [
            [
             0,
             "#0d0887"
            ],
            [
             0.1111111111111111,
             "#46039f"
            ],
            [
             0.2222222222222222,
             "#7201a8"
            ],
            [
             0.3333333333333333,
             "#9c179e"
            ],
            [
             0.4444444444444444,
             "#bd3786"
            ],
            [
             0.5555555555555556,
             "#d8576b"
            ],
            [
             0.6666666666666666,
             "#ed7953"
            ],
            [
             0.7777777777777778,
             "#fb9f3a"
            ],
            [
             0.8888888888888888,
             "#fdca26"
            ],
            [
             1,
             "#f0f921"
            ]
           ]
          },
          "colorway": [
           "#636efa",
           "#EF553B",
           "#00cc96",
           "#ab63fa",
           "#FFA15A",
           "#19d3f3",
           "#FF6692",
           "#B6E880",
           "#FF97FF",
           "#FECB52"
          ],
          "font": {
           "color": "#2a3f5f"
          },
          "geo": {
           "bgcolor": "white",
           "lakecolor": "white",
           "landcolor": "#E5ECF6",
           "showlakes": true,
           "showland": true,
           "subunitcolor": "white"
          },
          "hoverlabel": {
           "align": "left"
          },
          "hovermode": "closest",
          "mapbox": {
           "style": "light"
          },
          "paper_bgcolor": "white",
          "plot_bgcolor": "#E5ECF6",
          "polar": {
           "angularaxis": {
            "gridcolor": "white",
            "linecolor": "white",
            "ticks": ""
           },
           "bgcolor": "#E5ECF6",
           "radialaxis": {
            "gridcolor": "white",
            "linecolor": "white",
            "ticks": ""
           }
          },
          "scene": {
           "xaxis": {
            "backgroundcolor": "#E5ECF6",
            "gridcolor": "white",
            "gridwidth": 2,
            "linecolor": "white",
            "showbackground": true,
            "ticks": "",
            "zerolinecolor": "white"
           },
           "yaxis": {
            "backgroundcolor": "#E5ECF6",
            "gridcolor": "white",
            "gridwidth": 2,
            "linecolor": "white",
            "showbackground": true,
            "ticks": "",
            "zerolinecolor": "white"
           },
           "zaxis": {
            "backgroundcolor": "#E5ECF6",
            "gridcolor": "white",
            "gridwidth": 2,
            "linecolor": "white",
            "showbackground": true,
            "ticks": "",
            "zerolinecolor": "white"
           }
          },
          "shapedefaults": {
           "line": {
            "color": "#2a3f5f"
           }
          },
          "ternary": {
           "aaxis": {
            "gridcolor": "white",
            "linecolor": "white",
            "ticks": ""
           },
           "baxis": {
            "gridcolor": "white",
            "linecolor": "white",
            "ticks": ""
           },
           "bgcolor": "#E5ECF6",
           "caxis": {
            "gridcolor": "white",
            "linecolor": "white",
            "ticks": ""
           }
          },
          "title": {
           "x": 0.05
          },
          "xaxis": {
           "automargin": true,
           "gridcolor": "white",
           "linecolor": "white",
           "ticks": "",
           "title": {
            "standoff": 15
           },
           "zerolinecolor": "white",
           "zerolinewidth": 2
          },
          "yaxis": {
           "automargin": true,
           "gridcolor": "white",
           "linecolor": "white",
           "ticks": "",
           "title": {
            "standoff": 15
           },
           "zerolinecolor": "white",
           "zerolinewidth": 2
          }
         }
        },
        "xaxis": {
         "anchor": "y",
         "domain": [
          0,
          1
         ],
         "title": {
          "text": "x"
         }
        },
        "yaxis": {
         "anchor": "x",
         "domain": [
          0,
          1
         ],
         "title": {
          "text": "y"
         }
        }
       }
      }
     },
     "metadata": {},
     "output_type": "display_data"
    }
   ],
   "source": [
    "px.bar(x = letras, y = numeros, text=numeros)"
   ]
  },
  {
   "cell_type": "code",
   "execution_count": 29,
   "metadata": {},
   "outputs": [
    {
     "data": {
      "application/vnd.plotly.v1+json": {
       "config": {
        "plotlyServerURL": "https://plot.ly"
       },
       "data": [
        {
         "hovertemplate": "x=%{x}<br>y=%{y}<br>color=%{marker.color}<extra></extra>",
         "legendgroup": "",
         "marker": {
          "color": [
           9771,
           6737,
           9470,
           5144,
           8481,
           5785,
           7073,
           9904,
           8865,
           9918,
           8717,
           7463,
           7806,
           9895,
           8185,
           7410,
           5151,
           9194,
           6099,
           5528,
           5784,
           5167,
           6637,
           9292,
           7182,
           8619,
           6795,
           5970,
           7099,
           8837,
           6341,
           8803,
           6805,
           8234,
           6489,
           5694,
           7483,
           6232,
           5500,
           9616,
           7698,
           5368,
           6411,
           8296,
           8595,
           6462,
           9850,
           7235,
           6902,
           8417,
           7882,
           7333,
           6206,
           5615,
           5229,
           9970,
           8743,
           7822,
           7331,
           9555,
           6754,
           6776,
           7948,
           7308,
           5289,
           7121,
           9639,
           9717,
           9180,
           9900,
           6858,
           9987,
           7303,
           7747,
           6722,
           5157,
           6282,
           6685,
           7950,
           6370,
           9387,
           6569,
           9336,
           7598,
           8369,
           5123,
           9094,
           7843,
           8176,
           5986,
           6527,
           5919,
           5086,
           7477,
           8761,
           7650,
           8563,
           7352,
           7529,
           8432,
           9833,
           6649,
           7104,
           6051,
           8325,
           8192,
           5594,
           8878,
           6555,
           7044,
           9916,
           6449,
           5916,
           9079,
           9590,
           9476,
           5023,
           7451,
           8024,
           5383,
           8864,
           9485,
           7670,
           8986,
           7416,
           6541,
           8129,
           6041,
           9718,
           7924,
           9675,
           8893,
           8804,
           8972,
           6763,
           9431,
           5629,
           6120,
           6612,
           7879,
           8751,
           8675,
           8987,
           9517,
           8545,
           9481,
           5531,
           7693,
           8827,
           6271,
           7783,
           5794,
           8651,
           7894,
           6799,
           7721,
           9966,
           7274,
           5989,
           6304,
           5200,
           9243,
           7723,
           6121,
           9026,
           6356,
           7247,
           5671,
           5085,
           5120,
           6454,
           5623,
           9035,
           9359,
           9629,
           6277,
           9631,
           8263,
           5267,
           7287,
           8713,
           5440,
           9148,
           9171,
           7388,
           7280,
           7267,
           7489,
           8538,
           9255,
           5051,
           9813,
           6291,
           6191,
           9603,
           7233,
           9546,
           7576,
           5875,
           7424,
           9000,
           9102,
           8782,
           8831,
           5870,
           9378,
           8593,
           9983,
           8215,
           9860,
           9318,
           5532,
           8766,
           8974,
           8399,
           8440,
           7558,
           9690,
           8916,
           9437,
           5166,
           8469,
           9045,
           5328,
           9357,
           8980,
           8277,
           7016,
           8447,
           5424,
           7142,
           8179,
           8634,
           9126,
           9737,
           8744,
           7124,
           5154,
           5692,
           5294,
           5182,
           9581,
           7431,
           7334,
           6379,
           7674,
           8251,
           8987,
           5291,
           6564,
           5648,
           5692,
           8753,
           8586,
           7383,
           6908,
           5570,
           7972,
           9345,
           9791,
           8330,
           5070,
           7196,
           5228,
           5097,
           5622,
           7463,
           7584,
           8566,
           5544,
           9445,
           6470,
           6516,
           5245,
           6024,
           9595,
           6076,
           6530,
           6339,
           5052,
           5992,
           7838,
           8275,
           9751,
           7202,
           7388,
           5248,
           6840,
           7866,
           8278,
           6819,
           6717,
           9926,
           8430,
           8593,
           6730,
           9813,
           8706,
           5051,
           9923,
           7242,
           5371,
           6658,
           6312,
           8012,
           8519,
           6686,
           5408,
           8322,
           7103,
           9125,
           7943,
           7208,
           5563,
           9824,
           5439,
           8993,
           7045,
           8184,
           7521,
           8564,
           9769,
           5474,
           7962,
           8671,
           7536,
           9291,
           6648,
           6896,
           7378,
           9284,
           9129,
           8106,
           6954,
           7785,
           5297,
           9314,
           9993,
           9243,
           6749,
           9788,
           6454,
           7666,
           5355,
           5952,
           8562,
           5045,
           9976,
           5217,
           5356,
           8113,
           5254,
           7110,
           5879,
           9005,
           7301,
           8999,
           6675,
           5178,
           8162,
           9698,
           9727,
           9461,
           7443,
           5432,
           7684,
           9034,
           6981,
           9912,
           9480,
           9530,
           6738,
           5264,
           5807,
           7991,
           6403,
           9686,
           8752,
           8215,
           9075,
           6467,
           6760,
           5533,
           7931,
           5228,
           6292,
           8711,
           5923,
           6654,
           5460,
           9800,
           7491,
           8951,
           7106,
           9301,
           9079,
           7699,
           5333,
           6060,
           9421,
           9459,
           7541,
           9355,
           7201,
           5180,
           5097,
           5739,
           7765,
           5647,
           9683,
           5079,
           6739,
           5130,
           5940,
           9466,
           5687,
           9078,
           5992,
           7516,
           6429,
           6286,
           6254,
           8160,
           9845,
           6049,
           9261,
           9177,
           6364,
           9776,
           7315,
           7281,
           5635,
           8324,
           6926,
           9599,
           7058,
           9930,
           8644,
           6978,
           6660,
           8321,
           5876,
           6557,
           9947,
           7652,
           7628,
           8947,
           5916,
           6833,
           7193,
           5022,
           5233,
           5584,
           5649,
           5764,
           6785,
           7837,
           5100,
           8131,
           9665,
           8716,
           5106,
           5964,
           9058,
           9491,
           8724,
           7030,
           6573,
           9094,
           5072,
           8418,
           6762,
           8656,
           5641,
           7398,
           8498,
           5133,
           7040,
           7921,
           8186,
           7291,
           6270,
           6134,
           8555,
           8017,
           6502,
           9638,
           9814,
           5066,
           7378,
           7486,
           7755,
           7551,
           7020,
           8331,
           5733,
           9567,
           5363,
           9842,
           5963
          ],
          "coloraxis": "coloraxis",
          "symbol": "circle"
         },
         "mode": "markers",
         "name": "",
         "orientation": "v",
         "showlegend": false,
         "type": "scatter",
         "x": [
          1814,
          1554,
          1980,
          1524,
          1245,
          1245,
          1078,
          1490,
          1663,
          1616,
          1651,
          1428,
          1484,
          1484,
          1277,
          1473,
          1176,
          1015,
          1704,
          1223,
          1790,
          1492,
          1077,
          1687,
          1621,
          1527,
          1913,
          1535,
          1843,
          1617,
          1724,
          1333,
          1650,
          1683,
          1644,
          1036,
          1255,
          1574,
          1994,
          1810,
          1585,
          1068,
          1776,
          1716,
          1793,
          1325,
          1368,
          1794,
          1475,
          1486,
          1664,
          1821,
          1723,
          1794,
          1714,
          1601,
          1285,
          1600,
          1240,
          1474,
          1192,
          1093,
          1983,
          1123,
          1383,
          1513,
          1300,
          1984,
          1668,
          1217,
          1523,
          1040,
          1799,
          1024,
          1065,
          1554,
          1839,
          1217,
          1906,
          1586,
          1699,
          1412,
          1151,
          1273,
          1312,
          1765,
          1460,
          1429,
          1885,
          1844,
          1262,
          1796,
          1566,
          1500,
          1173,
          1461,
          1259,
          1378,
          1313,
          1768,
          1951,
          1002,
          1669,
          1061,
          1051,
          1327,
          1315,
          1540,
          1703,
          1288,
          1890,
          1468,
          1184,
          1101,
          1779,
          1626,
          1536,
          1371,
          1944,
          1607,
          1567,
          1048,
          1030,
          1873,
          1665,
          1400,
          1575,
          1255,
          1497,
          1752,
          1519,
          1416,
          1511,
          1605,
          1504,
          1500,
          1229,
          1656,
          1485,
          1603,
          1797,
          1793,
          1378,
          1449,
          1871,
          1091,
          1651,
          1353,
          1885,
          1907,
          1960,
          1976,
          1599,
          1448,
          1960,
          1407,
          1664,
          1702,
          1751,
          1307,
          1800,
          1843,
          1682,
          1619,
          1200,
          1770,
          1754,
          1309,
          1630,
          1247,
          1812,
          1065,
          1726,
          1402,
          1148,
          1037,
          1514,
          1058,
          1431,
          1393,
          1947,
          1172,
          1108,
          1061,
          1843,
          1713,
          1000,
          1374,
          1639,
          1759,
          1086,
          1667,
          1136,
          1156,
          1598,
          1782,
          1624,
          1755,
          1408,
          1017,
          1346,
          1962,
          1607,
          1466,
          1831,
          1511,
          1854,
          1344,
          1421,
          1993,
          1855,
          1434,
          1417,
          1985,
          1551,
          1610,
          1500,
          1738,
          1867,
          1890,
          1284,
          1032,
          1600,
          1858,
          1801,
          1943,
          1790,
          1718,
          1190,
          1841,
          1295,
          1164,
          1288,
          1485,
          1323,
          1289,
          1434,
          1127,
          1353,
          1124,
          1070,
          1643,
          1358,
          1956,
          1620,
          1898,
          1558,
          1604,
          1425,
          1715,
          1469,
          1981,
          1430,
          1753,
          1790,
          1412,
          1444,
          1310,
          1815,
          1934,
          1559,
          1314,
          1208,
          1737,
          1125,
          1239,
          1894,
          1077,
          1868,
          1030,
          1994,
          1175,
          1533,
          1546,
          1978,
          1113,
          1147,
          1733,
          1544,
          1985,
          1900,
          1950,
          1751,
          1865,
          1274,
          1385,
          1779,
          1527,
          1929,
          1061,
          1477,
          1395,
          1559,
          1443,
          1481,
          1952,
          1712,
          1992,
          1066,
          1681,
          1635,
          1353,
          1931,
          1210,
          1624,
          1313,
          1494,
          1883,
          1085,
          1607,
          1809,
          1037,
          1529,
          1835,
          1293,
          1652,
          1012,
          1740,
          1257,
          1713,
          1113,
          1801,
          1964,
          1671,
          1135,
          1080,
          1599,
          1158,
          1240,
          1761,
          1891,
          1008,
          1175,
          1931,
          1229,
          1994,
          1174,
          1611,
          1467,
          1081,
          1919,
          1468,
          1665,
          1041,
          1242,
          1382,
          1645,
          1054,
          1349,
          1408,
          1826,
          1325,
          1776,
          1204,
          1768,
          1743,
          1586,
          1551,
          1557,
          1983,
          1599,
          1414,
          1104,
          1752,
          1488,
          1544,
          1928,
          1622,
          1635,
          1517,
          1762,
          1003,
          1883,
          1015,
          1426,
          1838,
          1895,
          1005,
          1101,
          1446,
          1696,
          1659,
          1597,
          1128,
          1026,
          1626,
          1845,
          1552,
          1185,
          1791,
          1569,
          1718,
          1216,
          1409,
          1802,
          1284,
          1069,
          1962,
          1076,
          1046,
          1067,
          1223,
          1998,
          1349,
          1236,
          1124,
          1290,
          1665,
          1621,
          1870,
          1901,
          1220,
          1055,
          1761,
          1974,
          1995,
          1774,
          1808,
          1728,
          1421,
          1606,
          1880,
          1617,
          1635,
          1232,
          1016,
          1898,
          1252,
          1336,
          1771,
          1768,
          1221,
          1757,
          1037,
          1128,
          1166,
          1115,
          1011,
          1837,
          1640,
          1974,
          1294,
          1519,
          1193,
          1536,
          1556,
          1525,
          1137,
          1555,
          1074,
          1637,
          1124,
          1995,
          1995,
          1197,
          1377,
          1513,
          1846,
          1079,
          1213,
          1695,
          1234,
          1057,
          1413,
          1832,
          1394,
          1995,
          1363,
          1332,
          1053,
          1532,
          1270,
          1913,
          1099,
          1858,
          1934,
          1421,
          1923,
          1519,
          1021,
          1794,
          1421,
          1740,
          1790,
          1349,
          1259,
          1807,
          1137,
          1985,
          1268,
          1697,
          1494,
          1190,
          1719,
          1271,
          1572,
          1332,
          1570,
          1417,
          1065
         ],
         "xaxis": "x",
         "y": [
          9771,
          6737,
          9470,
          5144,
          8481,
          5785,
          7073,
          9904,
          8865,
          9918,
          8717,
          7463,
          7806,
          9895,
          8185,
          7410,
          5151,
          9194,
          6099,
          5528,
          5784,
          5167,
          6637,
          9292,
          7182,
          8619,
          6795,
          5970,
          7099,
          8837,
          6341,
          8803,
          6805,
          8234,
          6489,
          5694,
          7483,
          6232,
          5500,
          9616,
          7698,
          5368,
          6411,
          8296,
          8595,
          6462,
          9850,
          7235,
          6902,
          8417,
          7882,
          7333,
          6206,
          5615,
          5229,
          9970,
          8743,
          7822,
          7331,
          9555,
          6754,
          6776,
          7948,
          7308,
          5289,
          7121,
          9639,
          9717,
          9180,
          9900,
          6858,
          9987,
          7303,
          7747,
          6722,
          5157,
          6282,
          6685,
          7950,
          6370,
          9387,
          6569,
          9336,
          7598,
          8369,
          5123,
          9094,
          7843,
          8176,
          5986,
          6527,
          5919,
          5086,
          7477,
          8761,
          7650,
          8563,
          7352,
          7529,
          8432,
          9833,
          6649,
          7104,
          6051,
          8325,
          8192,
          5594,
          8878,
          6555,
          7044,
          9916,
          6449,
          5916,
          9079,
          9590,
          9476,
          5023,
          7451,
          8024,
          5383,
          8864,
          9485,
          7670,
          8986,
          7416,
          6541,
          8129,
          6041,
          9718,
          7924,
          9675,
          8893,
          8804,
          8972,
          6763,
          9431,
          5629,
          6120,
          6612,
          7879,
          8751,
          8675,
          8987,
          9517,
          8545,
          9481,
          5531,
          7693,
          8827,
          6271,
          7783,
          5794,
          8651,
          7894,
          6799,
          7721,
          9966,
          7274,
          5989,
          6304,
          5200,
          9243,
          7723,
          6121,
          9026,
          6356,
          7247,
          5671,
          5085,
          5120,
          6454,
          5623,
          9035,
          9359,
          9629,
          6277,
          9631,
          8263,
          5267,
          7287,
          8713,
          5440,
          9148,
          9171,
          7388,
          7280,
          7267,
          7489,
          8538,
          9255,
          5051,
          9813,
          6291,
          6191,
          9603,
          7233,
          9546,
          7576,
          5875,
          7424,
          9000,
          9102,
          8782,
          8831,
          5870,
          9378,
          8593,
          9983,
          8215,
          9860,
          9318,
          5532,
          8766,
          8974,
          8399,
          8440,
          7558,
          9690,
          8916,
          9437,
          5166,
          8469,
          9045,
          5328,
          9357,
          8980,
          8277,
          7016,
          8447,
          5424,
          7142,
          8179,
          8634,
          9126,
          9737,
          8744,
          7124,
          5154,
          5692,
          5294,
          5182,
          9581,
          7431,
          7334,
          6379,
          7674,
          8251,
          8987,
          5291,
          6564,
          5648,
          5692,
          8753,
          8586,
          7383,
          6908,
          5570,
          7972,
          9345,
          9791,
          8330,
          5070,
          7196,
          5228,
          5097,
          5622,
          7463,
          7584,
          8566,
          5544,
          9445,
          6470,
          6516,
          5245,
          6024,
          9595,
          6076,
          6530,
          6339,
          5052,
          5992,
          7838,
          8275,
          9751,
          7202,
          7388,
          5248,
          6840,
          7866,
          8278,
          6819,
          6717,
          9926,
          8430,
          8593,
          6730,
          9813,
          8706,
          5051,
          9923,
          7242,
          5371,
          6658,
          6312,
          8012,
          8519,
          6686,
          5408,
          8322,
          7103,
          9125,
          7943,
          7208,
          5563,
          9824,
          5439,
          8993,
          7045,
          8184,
          7521,
          8564,
          9769,
          5474,
          7962,
          8671,
          7536,
          9291,
          6648,
          6896,
          7378,
          9284,
          9129,
          8106,
          6954,
          7785,
          5297,
          9314,
          9993,
          9243,
          6749,
          9788,
          6454,
          7666,
          5355,
          5952,
          8562,
          5045,
          9976,
          5217,
          5356,
          8113,
          5254,
          7110,
          5879,
          9005,
          7301,
          8999,
          6675,
          5178,
          8162,
          9698,
          9727,
          9461,
          7443,
          5432,
          7684,
          9034,
          6981,
          9912,
          9480,
          9530,
          6738,
          5264,
          5807,
          7991,
          6403,
          9686,
          8752,
          8215,
          9075,
          6467,
          6760,
          5533,
          7931,
          5228,
          6292,
          8711,
          5923,
          6654,
          5460,
          9800,
          7491,
          8951,
          7106,
          9301,
          9079,
          7699,
          5333,
          6060,
          9421,
          9459,
          7541,
          9355,
          7201,
          5180,
          5097,
          5739,
          7765,
          5647,
          9683,
          5079,
          6739,
          5130,
          5940,
          9466,
          5687,
          9078,
          5992,
          7516,
          6429,
          6286,
          6254,
          8160,
          9845,
          6049,
          9261,
          9177,
          6364,
          9776,
          7315,
          7281,
          5635,
          8324,
          6926,
          9599,
          7058,
          9930,
          8644,
          6978,
          6660,
          8321,
          5876,
          6557,
          9947,
          7652,
          7628,
          8947,
          5916,
          6833,
          7193,
          5022,
          5233,
          5584,
          5649,
          5764,
          6785,
          7837,
          5100,
          8131,
          9665,
          8716,
          5106,
          5964,
          9058,
          9491,
          8724,
          7030,
          6573,
          9094,
          5072,
          8418,
          6762,
          8656,
          5641,
          7398,
          8498,
          5133,
          7040,
          7921,
          8186,
          7291,
          6270,
          6134,
          8555,
          8017,
          6502,
          9638,
          9814,
          5066,
          7378,
          7486,
          7755,
          7551,
          7020,
          8331,
          5733,
          9567,
          5363,
          9842,
          5963
         ],
         "yaxis": "y"
        },
        {
         "hovertemplate": "<b>OLS trendline</b><br>y = 0.385691 * x + 6944.07<br>R<sup>2</sup>=0.005512<br><br>x=%{x}<br>y=%{y} <b>(trend)</b><extra></extra>",
         "legendgroup": "",
         "marker": {
          "symbol": "circle"
         },
         "mode": "lines",
         "name": "",
         "showlegend": false,
         "type": "scatter",
         "x": [
          1000,
          1002,
          1003,
          1005,
          1008,
          1011,
          1012,
          1015,
          1015,
          1016,
          1017,
          1021,
          1024,
          1026,
          1030,
          1030,
          1032,
          1036,
          1037,
          1037,
          1037,
          1040,
          1041,
          1046,
          1048,
          1051,
          1053,
          1054,
          1055,
          1057,
          1058,
          1061,
          1061,
          1061,
          1065,
          1065,
          1065,
          1066,
          1067,
          1068,
          1069,
          1070,
          1074,
          1076,
          1077,
          1077,
          1078,
          1079,
          1080,
          1081,
          1085,
          1086,
          1091,
          1093,
          1099,
          1101,
          1101,
          1104,
          1108,
          1113,
          1113,
          1115,
          1123,
          1124,
          1124,
          1124,
          1125,
          1127,
          1128,
          1128,
          1135,
          1136,
          1137,
          1137,
          1147,
          1148,
          1151,
          1156,
          1158,
          1164,
          1166,
          1172,
          1173,
          1174,
          1175,
          1175,
          1176,
          1184,
          1185,
          1190,
          1190,
          1192,
          1193,
          1197,
          1200,
          1204,
          1208,
          1210,
          1213,
          1216,
          1217,
          1217,
          1220,
          1221,
          1223,
          1223,
          1229,
          1229,
          1232,
          1234,
          1236,
          1239,
          1240,
          1240,
          1242,
          1245,
          1245,
          1247,
          1252,
          1255,
          1255,
          1257,
          1259,
          1259,
          1262,
          1268,
          1270,
          1271,
          1273,
          1274,
          1277,
          1284,
          1284,
          1285,
          1288,
          1288,
          1289,
          1290,
          1293,
          1294,
          1295,
          1300,
          1307,
          1309,
          1310,
          1312,
          1313,
          1313,
          1314,
          1315,
          1323,
          1325,
          1325,
          1327,
          1332,
          1332,
          1333,
          1336,
          1344,
          1346,
          1349,
          1349,
          1349,
          1353,
          1353,
          1353,
          1358,
          1363,
          1368,
          1371,
          1374,
          1377,
          1378,
          1378,
          1382,
          1383,
          1385,
          1393,
          1394,
          1395,
          1400,
          1402,
          1407,
          1408,
          1408,
          1409,
          1412,
          1412,
          1413,
          1414,
          1416,
          1417,
          1417,
          1421,
          1421,
          1421,
          1421,
          1425,
          1426,
          1428,
          1429,
          1430,
          1431,
          1434,
          1434,
          1443,
          1444,
          1446,
          1448,
          1449,
          1460,
          1461,
          1466,
          1467,
          1468,
          1468,
          1469,
          1473,
          1474,
          1475,
          1477,
          1481,
          1484,
          1484,
          1485,
          1485,
          1486,
          1488,
          1490,
          1492,
          1494,
          1494,
          1497,
          1500,
          1500,
          1500,
          1504,
          1511,
          1511,
          1513,
          1513,
          1514,
          1517,
          1519,
          1519,
          1519,
          1523,
          1524,
          1525,
          1527,
          1527,
          1529,
          1532,
          1533,
          1535,
          1536,
          1536,
          1540,
          1544,
          1544,
          1546,
          1551,
          1551,
          1552,
          1554,
          1554,
          1555,
          1556,
          1557,
          1558,
          1559,
          1559,
          1566,
          1567,
          1569,
          1570,
          1572,
          1574,
          1575,
          1585,
          1586,
          1586,
          1597,
          1598,
          1599,
          1599,
          1599,
          1600,
          1600,
          1601,
          1603,
          1604,
          1605,
          1606,
          1607,
          1607,
          1607,
          1610,
          1611,
          1616,
          1617,
          1617,
          1619,
          1620,
          1621,
          1621,
          1622,
          1624,
          1624,
          1626,
          1626,
          1630,
          1635,
          1635,
          1635,
          1637,
          1639,
          1640,
          1643,
          1644,
          1645,
          1650,
          1651,
          1651,
          1652,
          1656,
          1659,
          1663,
          1664,
          1664,
          1665,
          1665,
          1665,
          1667,
          1668,
          1669,
          1671,
          1681,
          1682,
          1683,
          1687,
          1695,
          1696,
          1697,
          1699,
          1702,
          1703,
          1704,
          1712,
          1713,
          1713,
          1714,
          1715,
          1716,
          1718,
          1718,
          1719,
          1723,
          1724,
          1726,
          1728,
          1733,
          1737,
          1738,
          1740,
          1740,
          1743,
          1751,
          1751,
          1752,
          1752,
          1753,
          1754,
          1755,
          1757,
          1759,
          1761,
          1761,
          1762,
          1765,
          1768,
          1768,
          1768,
          1770,
          1771,
          1774,
          1776,
          1776,
          1779,
          1779,
          1782,
          1790,
          1790,
          1790,
          1790,
          1791,
          1793,
          1793,
          1794,
          1794,
          1794,
          1796,
          1797,
          1799,
          1800,
          1801,
          1801,
          1802,
          1807,
          1808,
          1809,
          1810,
          1812,
          1814,
          1815,
          1821,
          1826,
          1831,
          1832,
          1835,
          1837,
          1838,
          1839,
          1841,
          1843,
          1843,
          1843,
          1844,
          1845,
          1846,
          1854,
          1855,
          1858,
          1858,
          1865,
          1867,
          1868,
          1870,
          1871,
          1873,
          1880,
          1883,
          1883,
          1885,
          1885,
          1890,
          1890,
          1891,
          1894,
          1895,
          1898,
          1898,
          1900,
          1901,
          1906,
          1907,
          1913,
          1913,
          1919,
          1923,
          1928,
          1929,
          1931,
          1931,
          1934,
          1934,
          1943,
          1944,
          1947,
          1950,
          1951,
          1952,
          1956,
          1960,
          1960,
          1962,
          1962,
          1964,
          1974,
          1974,
          1976,
          1978,
          1980,
          1981,
          1983,
          1983,
          1984,
          1985,
          1985,
          1985,
          1992,
          1993,
          1994,
          1994,
          1994,
          1995,
          1995,
          1995,
          1995,
          1998
         ],
         "xaxis": "x",
         "y": [
          7329.76564271718,
          7330.537024819091,
          7330.922715870047,
          7331.694097971959,
          7332.851171124827,
          7334.008244277695,
          7334.3939353286505,
          7335.551008481519,
          7335.551008481519,
          7335.936699532474,
          7336.32239058343,
          7337.865154787254,
          7339.022227940121,
          7339.793610042034,
          7341.336374245857,
          7341.336374245857,
          7342.107756347769,
          7343.650520551592,
          7344.036211602549,
          7344.036211602549,
          7344.036211602549,
          7345.193284755416,
          7345.578975806372,
          7347.507431061152,
          7348.278813163064,
          7349.435886315931,
          7350.207268417843,
          7350.5929594688,
          7350.978650519755,
          7351.750032621667,
          7352.135723672623,
          7353.292796825491,
          7353.292796825491,
          7353.292796825491,
          7354.835561029315,
          7354.835561029315,
          7354.835561029315,
          7355.2212520802705,
          7355.606943131226,
          7355.992634182182,
          7356.378325233138,
          7356.764016284094,
          7358.306780487917,
          7359.07816258983,
          7359.463853640786,
          7359.463853640786,
          7359.849544691741,
          7360.235235742697,
          7360.620926793653,
          7361.006617844609,
          7362.549382048433,
          7362.935073099388,
          7364.863528354168,
          7365.63491045608,
          7367.949056761816,
          7368.720438863727,
          7368.720438863727,
          7369.877512016596,
          7371.420276220419,
          7373.348731475198,
          7373.348731475198,
          7374.120113577111,
          7377.205641984758,
          7377.591333035713,
          7377.591333035713,
          7377.591333035713,
          7377.977024086669,
          7378.748406188582,
          7379.134097239537,
          7379.134097239537,
          7381.833934596229,
          7382.219625647184,
          7382.60531669814,
          7382.60531669814,
          7386.4622272076995,
          7386.847918258655,
          7388.004991411523,
          7389.933446666303,
          7390.704828768215,
          7393.01897507395,
          7393.7903571758625,
          7396.104503481598,
          7396.490194532554,
          7396.875885583509,
          7397.261576634465,
          7397.261576634465,
          7397.647267685421,
          7400.732796093069,
          7401.118487144025,
          7403.046942398804,
          7403.046942398804,
          7403.818324500716,
          7404.204015551672,
          7405.7467797554955,
          7406.903852908364,
          7408.446617112187,
          7409.989381316011,
          7410.760763417923,
          7411.91783657079,
          7413.0749097236585,
          7413.460600774614,
          7413.460600774614,
          7414.6176739274815,
          7415.003364978438,
          7415.77474708035,
          7415.77474708035,
          7418.088893386085,
          7418.088893386085,
          7419.245966538952,
          7420.017348640865,
          7420.788730742776,
          7421.9458038956445,
          7422.3314949466,
          7422.3314949466,
          7423.102877048512,
          7424.25995020138,
          7424.25995020138,
          7425.0313323032915,
          7426.959787558071,
          7428.116860710939,
          7428.116860710939,
          7428.888242812851,
          7429.659624914762,
          7429.659624914762,
          7430.816698067631,
          7433.130844373366,
          7433.9022264752775,
          7434.287917526233,
          7435.059299628146,
          7435.4449906791015,
          7436.60206383197,
          7439.301901188661,
          7439.301901188661,
          7439.687592239617,
          7440.844665392484,
          7440.844665392484,
          7441.2303564434405,
          7441.616047494396,
          7442.773120647264,
          7443.15881169822,
          7443.544502749176,
          7445.472958003956,
          7448.172795360647,
          7448.944177462558,
          7449.329868513514,
          7450.101250615427,
          7450.486941666382,
          7450.486941666382,
          7450.872632717338,
          7451.258323768294,
          7454.343852175942,
          7455.115234277853,
          7455.115234277853,
          7455.886616379765,
          7457.815071634544,
          7457.815071634544,
          7458.200762685501,
          7459.357835838368,
          7462.443364246015,
          7463.214746347928,
          7464.371819500795,
          7464.371819500795,
          7464.371819500795,
          7465.914583704619,
          7465.914583704619,
          7465.914583704619,
          7467.843038959399,
          7469.771494214178,
          7471.699949468958,
          7472.857022621825,
          7474.0140957746935,
          7475.171168927561,
          7475.556859978517,
          7475.556859978517,
          7477.09962418234,
          7477.485315233296,
          7478.256697335209,
          7481.342225742856,
          7481.727916793812,
          7482.113607844768,
          7484.042063099547,
          7484.813445201459,
          7486.741900456239,
          7487.127591507195,
          7487.127591507195,
          7487.51328255815,
          7488.670355711019,
          7488.670355711019,
          7489.056046761974,
          7489.44173781293,
          7490.213119914842,
          7490.598810965798,
          7490.598810965798,
          7492.141575169621,
          7492.141575169621,
          7492.141575169621,
          7492.141575169621,
          7493.684339373445,
          7494.070030424401,
          7494.841412526313,
          7495.227103577269,
          7495.612794628225,
          7495.998485679181,
          7497.155558832049,
          7497.155558832049,
          7500.626778290652,
          7501.012469341607,
          7501.78385144352,
          7502.555233545431,
          7502.940924596387,
          7507.183526156902,
          7507.569217207858,
          7509.497672462638,
          7509.883363513594,
          7510.26905456455,
          7510.26905456455,
          7510.654745615506,
          7512.19750981933,
          7512.5832008702855,
          7512.968891921241,
          7513.740274023153,
          7515.283038226977,
          7516.440111379845,
          7516.440111379845,
          7516.825802430801,
          7516.825802430801,
          7517.211493481756,
          7517.982875583668,
          7518.75425768558,
          7519.525639787492,
          7520.297021889403,
          7520.297021889403,
          7521.454095042272,
          7522.611168195139,
          7522.611168195139,
          7522.611168195139,
          7524.153932398963,
          7526.853769755654,
          7526.853769755654,
          7527.625151857566,
          7527.625151857566,
          7528.010842908522,
          7529.167916061389,
          7529.939298163302,
          7529.939298163302,
          7529.939298163302,
          7531.482062367126,
          7531.8677534180815,
          7532.253444469037,
          7533.024826570949,
          7533.024826570949,
          7533.796208672861,
          7534.9532818257285,
          7535.338972876684,
          7536.110354978597,
          7536.496046029552,
          7536.496046029552,
          7538.038810233376,
          7539.581574437199,
          7539.581574437199,
          7540.352956539112,
          7542.281411793891,
          7542.281411793891,
          7542.667102844847,
          7543.438484946759,
          7543.438484946759,
          7543.8241759977145,
          7544.20986704867,
          7544.595558099627,
          7544.981249150583,
          7545.3669402015385,
          7545.3669402015385,
          7548.06677755823,
          7548.452468609185,
          7549.223850711098,
          7549.609541762054,
          7550.380923863965,
          7551.1523059658775,
          7551.537997016833,
          7555.394907526393,
          7555.780598577348,
          7555.780598577348,
          7560.023200137864,
          7560.408891188819,
          7560.794582239775,
          7560.794582239775,
          7560.794582239775,
          7561.180273290731,
          7561.180273290731,
          7561.5659643416875,
          7562.337346443599,
          7562.723037494555,
          7563.1087285455105,
          7563.494419596466,
          7563.880110647423,
          7563.880110647423,
          7563.880110647423,
          7565.03718380029,
          7565.422874851246,
          7567.351330106026,
          7567.737021156981,
          7567.737021156981,
          7568.508403258894,
          7568.89409430985,
          7569.279785360805,
          7569.279785360805,
          7569.665476411761,
          7570.4368585136735,
          7570.4368585136735,
          7571.208240615585,
          7571.208240615585,
          7572.751004819409,
          7574.679460074189,
          7574.679460074189,
          7574.679460074189,
          7575.4508421761,
          7576.222224278012,
          7576.607915328968,
          7577.764988481836,
          7578.150679532791,
          7578.536370583747,
          7580.464825838527,
          7580.850516889483,
          7580.850516889483,
          7581.236207940439,
          7582.778972144262,
          7583.9360452971305,
          7585.478809500954,
          7585.86450055191,
          7585.86450055191,
          7586.250191602866,
          7586.250191602866,
          7586.250191602866,
          7587.021573704777,
          7587.407264755733,
          7587.79295580669,
          7588.564337908601,
          7592.421248418161,
          7592.8069394691165,
          7593.192630520072,
          7594.735394723896,
          7597.820923131543,
          7598.2066141825,
          7598.592305233456,
          7599.363687335367,
          7600.520760488235,
          7600.906451539191,
          7601.292142590147,
          7604.377670997794,
          7604.76336204875,
          7604.76336204875,
          7605.149053099706,
          7605.534744150662,
          7605.920435201618,
          7606.69181730353,
          7606.69181730353,
          7607.077508354486,
          7608.620272558309,
          7609.005963609265,
          7609.777345711177,
          7610.548727813089,
          7612.477183067868,
          7614.019947271692,
          7614.405638322648,
          7615.1770204245595,
          7615.1770204245595,
          7616.334093577428,
          7619.419621985075,
          7619.419621985075,
          7619.805313036031,
          7619.805313036031,
          7620.191004086987,
          7620.576695137943,
          7620.962386188899,
          7621.73376829081,
          7622.5051503927225,
          7623.276532494634,
          7623.276532494634,
          7623.66222354559,
          7624.819296698458,
          7625.976369851325,
          7625.976369851325,
          7625.976369851325,
          7626.747751953238,
          7627.133443004193,
          7628.290516157062,
          7629.061898258973,
          7629.061898258973,
          7630.21897141184,
          7630.21897141184,
          7631.3760445647085,
          7634.4615729723555,
          7634.4615729723555,
          7634.4615729723555,
          7634.4615729723555,
          7634.847264023312,
          7635.618646125224,
          7635.618646125224,
          7636.004337176179,
          7636.004337176179,
          7636.004337176179,
          7636.775719278091,
          7637.161410329048,
          7637.932792430959,
          7638.318483481915,
          7638.704174532871,
          7638.704174532871,
          7639.089865583826,
          7641.018320838606,
          7641.404011889563,
          7641.7897029405185,
          7642.175393991474,
          7642.946776093386,
          7643.718158195298,
          7644.103849246254,
          7646.417995551989,
          7648.346450806769,
          7650.274906061549,
          7650.660597112505,
          7651.817670265372,
          7652.589052367284,
          7652.97474341824,
          7653.360434469196,
          7654.131816571107,
          7654.90319867302,
          7654.90319867302,
          7654.90319867302,
          7655.288889723975,
          7655.674580774931,
          7656.060271825887,
          7659.145800233535,
          7659.531491284491,
          7660.688564437358,
          7660.688564437358,
          7663.38840179405,
          7664.1597838959615,
          7664.545474946917,
          7665.31685704883,
          7665.702548099785,
          7666.473930201697,
          7669.173767558388,
          7670.330840711256,
          7670.330840711256,
          7671.102222813168,
          7671.102222813168,
          7673.0306780679475,
          7673.0306780679475,
          7673.416369118903,
          7674.5734422717715,
          7674.959133322727,
          7676.116206475595,
          7676.116206475595,
          7676.887588577507,
          7677.273279628463,
          7679.201734883242,
          7679.587425934198,
          7681.901572239934,
          7681.901572239934,
          7684.215718545669,
          7685.758482749493,
          7687.686938004273,
          7688.072629055228,
          7688.84401115714,
          7688.84401115714,
          7690.001084310008,
          7690.001084310008,
          7693.472303768612,
          7693.8579948195675,
          7695.015067972435,
          7696.172141125303,
          7696.557832176259,
          7696.943523227214,
          7698.486287431038,
          7700.029051634862,
          7700.029051634862,
          7700.800433736774,
          7700.800433736774,
          7701.571815838686,
          7705.428726348245,
          7705.428726348245,
          7706.200108450157,
          7706.971490552069,
          7707.74287265398,
          7708.128563704937,
          7708.899945806848,
          7708.899945806848,
          7709.285636857804,
          7709.67132790876,
          7709.67132790876,
          7709.67132790876,
          7712.371165265451,
          7712.756856316408,
          7713.1425473673635,
          7713.1425473673635,
          7713.1425473673635,
          7713.528238418319,
          7713.528238418319,
          7713.528238418319,
          7713.528238418319,
          7714.685311571187
         ],
         "yaxis": "y"
        }
       ],
       "layout": {
        "coloraxis": {
         "colorbar": {
          "title": {
           "text": "color"
          }
         },
         "colorscale": [
          [
           0,
           "#0d0887"
          ],
          [
           0.1111111111111111,
           "#46039f"
          ],
          [
           0.2222222222222222,
           "#7201a8"
          ],
          [
           0.3333333333333333,
           "#9c179e"
          ],
          [
           0.4444444444444444,
           "#bd3786"
          ],
          [
           0.5555555555555556,
           "#d8576b"
          ],
          [
           0.6666666666666666,
           "#ed7953"
          ],
          [
           0.7777777777777778,
           "#fb9f3a"
          ],
          [
           0.8888888888888888,
           "#fdca26"
          ],
          [
           1,
           "#f0f921"
          ]
         ]
        },
        "legend": {
         "tracegroupgap": 0
        },
        "margin": {
         "t": 60
        },
        "template": {
         "data": {
          "bar": [
           {
            "error_x": {
             "color": "#2a3f5f"
            },
            "error_y": {
             "color": "#2a3f5f"
            },
            "marker": {
             "line": {
              "color": "#E5ECF6",
              "width": 0.5
             },
             "pattern": {
              "fillmode": "overlay",
              "size": 10,
              "solidity": 0.2
             }
            },
            "type": "bar"
           }
          ],
          "barpolar": [
           {
            "marker": {
             "line": {
              "color": "#E5ECF6",
              "width": 0.5
             },
             "pattern": {
              "fillmode": "overlay",
              "size": 10,
              "solidity": 0.2
             }
            },
            "type": "barpolar"
           }
          ],
          "carpet": [
           {
            "aaxis": {
             "endlinecolor": "#2a3f5f",
             "gridcolor": "white",
             "linecolor": "white",
             "minorgridcolor": "white",
             "startlinecolor": "#2a3f5f"
            },
            "baxis": {
             "endlinecolor": "#2a3f5f",
             "gridcolor": "white",
             "linecolor": "white",
             "minorgridcolor": "white",
             "startlinecolor": "#2a3f5f"
            },
            "type": "carpet"
           }
          ],
          "choropleth": [
           {
            "colorbar": {
             "outlinewidth": 0,
             "ticks": ""
            },
            "type": "choropleth"
           }
          ],
          "contour": [
           {
            "colorbar": {
             "outlinewidth": 0,
             "ticks": ""
            },
            "colorscale": [
             [
              0,
              "#0d0887"
             ],
             [
              0.1111111111111111,
              "#46039f"
             ],
             [
              0.2222222222222222,
              "#7201a8"
             ],
             [
              0.3333333333333333,
              "#9c179e"
             ],
             [
              0.4444444444444444,
              "#bd3786"
             ],
             [
              0.5555555555555556,
              "#d8576b"
             ],
             [
              0.6666666666666666,
              "#ed7953"
             ],
             [
              0.7777777777777778,
              "#fb9f3a"
             ],
             [
              0.8888888888888888,
              "#fdca26"
             ],
             [
              1,
              "#f0f921"
             ]
            ],
            "type": "contour"
           }
          ],
          "contourcarpet": [
           {
            "colorbar": {
             "outlinewidth": 0,
             "ticks": ""
            },
            "type": "contourcarpet"
           }
          ],
          "heatmap": [
           {
            "colorbar": {
             "outlinewidth": 0,
             "ticks": ""
            },
            "colorscale": [
             [
              0,
              "#0d0887"
             ],
             [
              0.1111111111111111,
              "#46039f"
             ],
             [
              0.2222222222222222,
              "#7201a8"
             ],
             [
              0.3333333333333333,
              "#9c179e"
             ],
             [
              0.4444444444444444,
              "#bd3786"
             ],
             [
              0.5555555555555556,
              "#d8576b"
             ],
             [
              0.6666666666666666,
              "#ed7953"
             ],
             [
              0.7777777777777778,
              "#fb9f3a"
             ],
             [
              0.8888888888888888,
              "#fdca26"
             ],
             [
              1,
              "#f0f921"
             ]
            ],
            "type": "heatmap"
           }
          ],
          "heatmapgl": [
           {
            "colorbar": {
             "outlinewidth": 0,
             "ticks": ""
            },
            "colorscale": [
             [
              0,
              "#0d0887"
             ],
             [
              0.1111111111111111,
              "#46039f"
             ],
             [
              0.2222222222222222,
              "#7201a8"
             ],
             [
              0.3333333333333333,
              "#9c179e"
             ],
             [
              0.4444444444444444,
              "#bd3786"
             ],
             [
              0.5555555555555556,
              "#d8576b"
             ],
             [
              0.6666666666666666,
              "#ed7953"
             ],
             [
              0.7777777777777778,
              "#fb9f3a"
             ],
             [
              0.8888888888888888,
              "#fdca26"
             ],
             [
              1,
              "#f0f921"
             ]
            ],
            "type": "heatmapgl"
           }
          ],
          "histogram": [
           {
            "marker": {
             "pattern": {
              "fillmode": "overlay",
              "size": 10,
              "solidity": 0.2
             }
            },
            "type": "histogram"
           }
          ],
          "histogram2d": [
           {
            "colorbar": {
             "outlinewidth": 0,
             "ticks": ""
            },
            "colorscale": [
             [
              0,
              "#0d0887"
             ],
             [
              0.1111111111111111,
              "#46039f"
             ],
             [
              0.2222222222222222,
              "#7201a8"
             ],
             [
              0.3333333333333333,
              "#9c179e"
             ],
             [
              0.4444444444444444,
              "#bd3786"
             ],
             [
              0.5555555555555556,
              "#d8576b"
             ],
             [
              0.6666666666666666,
              "#ed7953"
             ],
             [
              0.7777777777777778,
              "#fb9f3a"
             ],
             [
              0.8888888888888888,
              "#fdca26"
             ],
             [
              1,
              "#f0f921"
             ]
            ],
            "type": "histogram2d"
           }
          ],
          "histogram2dcontour": [
           {
            "colorbar": {
             "outlinewidth": 0,
             "ticks": ""
            },
            "colorscale": [
             [
              0,
              "#0d0887"
             ],
             [
              0.1111111111111111,
              "#46039f"
             ],
             [
              0.2222222222222222,
              "#7201a8"
             ],
             [
              0.3333333333333333,
              "#9c179e"
             ],
             [
              0.4444444444444444,
              "#bd3786"
             ],
             [
              0.5555555555555556,
              "#d8576b"
             ],
             [
              0.6666666666666666,
              "#ed7953"
             ],
             [
              0.7777777777777778,
              "#fb9f3a"
             ],
             [
              0.8888888888888888,
              "#fdca26"
             ],
             [
              1,
              "#f0f921"
             ]
            ],
            "type": "histogram2dcontour"
           }
          ],
          "mesh3d": [
           {
            "colorbar": {
             "outlinewidth": 0,
             "ticks": ""
            },
            "type": "mesh3d"
           }
          ],
          "parcoords": [
           {
            "line": {
             "colorbar": {
              "outlinewidth": 0,
              "ticks": ""
             }
            },
            "type": "parcoords"
           }
          ],
          "pie": [
           {
            "automargin": true,
            "type": "pie"
           }
          ],
          "scatter": [
           {
            "fillpattern": {
             "fillmode": "overlay",
             "size": 10,
             "solidity": 0.2
            },
            "type": "scatter"
           }
          ],
          "scatter3d": [
           {
            "line": {
             "colorbar": {
              "outlinewidth": 0,
              "ticks": ""
             }
            },
            "marker": {
             "colorbar": {
              "outlinewidth": 0,
              "ticks": ""
             }
            },
            "type": "scatter3d"
           }
          ],
          "scattercarpet": [
           {
            "marker": {
             "colorbar": {
              "outlinewidth": 0,
              "ticks": ""
             }
            },
            "type": "scattercarpet"
           }
          ],
          "scattergeo": [
           {
            "marker": {
             "colorbar": {
              "outlinewidth": 0,
              "ticks": ""
             }
            },
            "type": "scattergeo"
           }
          ],
          "scattergl": [
           {
            "marker": {
             "colorbar": {
              "outlinewidth": 0,
              "ticks": ""
             }
            },
            "type": "scattergl"
           }
          ],
          "scattermapbox": [
           {
            "marker": {
             "colorbar": {
              "outlinewidth": 0,
              "ticks": ""
             }
            },
            "type": "scattermapbox"
           }
          ],
          "scatterpolar": [
           {
            "marker": {
             "colorbar": {
              "outlinewidth": 0,
              "ticks": ""
             }
            },
            "type": "scatterpolar"
           }
          ],
          "scatterpolargl": [
           {
            "marker": {
             "colorbar": {
              "outlinewidth": 0,
              "ticks": ""
             }
            },
            "type": "scatterpolargl"
           }
          ],
          "scatterternary": [
           {
            "marker": {
             "colorbar": {
              "outlinewidth": 0,
              "ticks": ""
             }
            },
            "type": "scatterternary"
           }
          ],
          "surface": [
           {
            "colorbar": {
             "outlinewidth": 0,
             "ticks": ""
            },
            "colorscale": [
             [
              0,
              "#0d0887"
             ],
             [
              0.1111111111111111,
              "#46039f"
             ],
             [
              0.2222222222222222,
              "#7201a8"
             ],
             [
              0.3333333333333333,
              "#9c179e"
             ],
             [
              0.4444444444444444,
              "#bd3786"
             ],
             [
              0.5555555555555556,
              "#d8576b"
             ],
             [
              0.6666666666666666,
              "#ed7953"
             ],
             [
              0.7777777777777778,
              "#fb9f3a"
             ],
             [
              0.8888888888888888,
              "#fdca26"
             ],
             [
              1,
              "#f0f921"
             ]
            ],
            "type": "surface"
           }
          ],
          "table": [
           {
            "cells": {
             "fill": {
              "color": "#EBF0F8"
             },
             "line": {
              "color": "white"
             }
            },
            "header": {
             "fill": {
              "color": "#C8D4E3"
             },
             "line": {
              "color": "white"
             }
            },
            "type": "table"
           }
          ]
         },
         "layout": {
          "annotationdefaults": {
           "arrowcolor": "#2a3f5f",
           "arrowhead": 0,
           "arrowwidth": 1
          },
          "autotypenumbers": "strict",
          "coloraxis": {
           "colorbar": {
            "outlinewidth": 0,
            "ticks": ""
           }
          },
          "colorscale": {
           "diverging": [
            [
             0,
             "#8e0152"
            ],
            [
             0.1,
             "#c51b7d"
            ],
            [
             0.2,
             "#de77ae"
            ],
            [
             0.3,
             "#f1b6da"
            ],
            [
             0.4,
             "#fde0ef"
            ],
            [
             0.5,
             "#f7f7f7"
            ],
            [
             0.6,
             "#e6f5d0"
            ],
            [
             0.7,
             "#b8e186"
            ],
            [
             0.8,
             "#7fbc41"
            ],
            [
             0.9,
             "#4d9221"
            ],
            [
             1,
             "#276419"
            ]
           ],
           "sequential": [
            [
             0,
             "#0d0887"
            ],
            [
             0.1111111111111111,
             "#46039f"
            ],
            [
             0.2222222222222222,
             "#7201a8"
            ],
            [
             0.3333333333333333,
             "#9c179e"
            ],
            [
             0.4444444444444444,
             "#bd3786"
            ],
            [
             0.5555555555555556,
             "#d8576b"
            ],
            [
             0.6666666666666666,
             "#ed7953"
            ],
            [
             0.7777777777777778,
             "#fb9f3a"
            ],
            [
             0.8888888888888888,
             "#fdca26"
            ],
            [
             1,
             "#f0f921"
            ]
           ],
           "sequentialminus": [
            [
             0,
             "#0d0887"
            ],
            [
             0.1111111111111111,
             "#46039f"
            ],
            [
             0.2222222222222222,
             "#7201a8"
            ],
            [
             0.3333333333333333,
             "#9c179e"
            ],
            [
             0.4444444444444444,
             "#bd3786"
            ],
            [
             0.5555555555555556,
             "#d8576b"
            ],
            [
             0.6666666666666666,
             "#ed7953"
            ],
            [
             0.7777777777777778,
             "#fb9f3a"
            ],
            [
             0.8888888888888888,
             "#fdca26"
            ],
            [
             1,
             "#f0f921"
            ]
           ]
          },
          "colorway": [
           "#636efa",
           "#EF553B",
           "#00cc96",
           "#ab63fa",
           "#FFA15A",
           "#19d3f3",
           "#FF6692",
           "#B6E880",
           "#FF97FF",
           "#FECB52"
          ],
          "font": {
           "color": "#2a3f5f"
          },
          "geo": {
           "bgcolor": "white",
           "lakecolor": "white",
           "landcolor": "#E5ECF6",
           "showlakes": true,
           "showland": true,
           "subunitcolor": "white"
          },
          "hoverlabel": {
           "align": "left"
          },
          "hovermode": "closest",
          "mapbox": {
           "style": "light"
          },
          "paper_bgcolor": "white",
          "plot_bgcolor": "#E5ECF6",
          "polar": {
           "angularaxis": {
            "gridcolor": "white",
            "linecolor": "white",
            "ticks": ""
           },
           "bgcolor": "#E5ECF6",
           "radialaxis": {
            "gridcolor": "white",
            "linecolor": "white",
            "ticks": ""
           }
          },
          "scene": {
           "xaxis": {
            "backgroundcolor": "#E5ECF6",
            "gridcolor": "white",
            "gridwidth": 2,
            "linecolor": "white",
            "showbackground": true,
            "ticks": "",
            "zerolinecolor": "white"
           },
           "yaxis": {
            "backgroundcolor": "#E5ECF6",
            "gridcolor": "white",
            "gridwidth": 2,
            "linecolor": "white",
            "showbackground": true,
            "ticks": "",
            "zerolinecolor": "white"
           },
           "zaxis": {
            "backgroundcolor": "#E5ECF6",
            "gridcolor": "white",
            "gridwidth": 2,
            "linecolor": "white",
            "showbackground": true,
            "ticks": "",
            "zerolinecolor": "white"
           }
          },
          "shapedefaults": {
           "line": {
            "color": "#2a3f5f"
           }
          },
          "ternary": {
           "aaxis": {
            "gridcolor": "white",
            "linecolor": "white",
            "ticks": ""
           },
           "baxis": {
            "gridcolor": "white",
            "linecolor": "white",
            "ticks": ""
           },
           "bgcolor": "#E5ECF6",
           "caxis": {
            "gridcolor": "white",
            "linecolor": "white",
            "ticks": ""
           }
          },
          "title": {
           "x": 0.05
          },
          "xaxis": {
           "automargin": true,
           "gridcolor": "white",
           "linecolor": "white",
           "ticks": "",
           "title": {
            "standoff": 15
           },
           "zerolinecolor": "white",
           "zerolinewidth": 2
          },
          "yaxis": {
           "automargin": true,
           "gridcolor": "white",
           "linecolor": "white",
           "ticks": "",
           "title": {
            "standoff": 15
           },
           "zerolinecolor": "white",
           "zerolinewidth": 2
          }
         }
        },
        "xaxis": {
         "anchor": "y",
         "domain": [
          0,
          1
         ],
         "title": {
          "text": "x"
         }
        },
        "yaxis": {
         "anchor": "x",
         "domain": [
          0,
          1
         ],
         "title": {
          "text": "y"
         }
        }
       }
      }
     },
     "metadata": {},
     "output_type": "display_data"
    }
   ],
   "source": [
    "# Questão 3\n",
    "\n",
    "arr1 = np.random.randint(1000, 2001, 500)\n",
    "arr2 = np.random.randint(5000, 10001, 500)\n",
    "px.scatter(x = arr1, y = arr2, trendline = 'ols', color = arr2)"
   ]
  },
  {
   "cell_type": "code",
   "execution_count": 35,
   "metadata": {},
   "outputs": [
    {
     "data": {
      "application/vnd.plotly.v1+json": {
       "config": {
        "plotlyServerURL": "https://plot.ly"
       },
       "data": [
        {
         "alignmentgroup": "True",
         "bingroup": "x",
         "hovertemplate": "x=%{x}<br>count=%{y}<extra></extra>",
         "legendgroup": "",
         "marker": {
          "color": "#636efa",
          "pattern": {
           "shape": ""
          }
         },
         "name": "",
         "offsetgroup": "",
         "orientation": "v",
         "showlegend": false,
         "type": "histogram",
         "x": [
          136,
          693,
          400,
          347,
          136,
          148,
          688,
          813,
          634,
          513,
          555,
          837,
          285,
          629,
          621,
          825,
          129,
          337,
          261,
          510,
          470,
          564,
          685,
          621,
          690,
          153,
          409,
          373,
          822,
          341,
          795,
          190,
          465,
          241,
          636,
          838,
          261,
          599,
          197,
          658,
          541,
          590,
          728,
          188,
          790,
          761,
          396,
          599,
          575,
          850,
          784,
          788,
          610,
          146,
          552,
          140,
          205,
          577,
          619,
          589,
          809,
          536,
          835,
          198,
          446,
          228,
          378,
          738,
          187,
          579,
          144,
          393,
          531,
          220,
          225,
          549,
          787,
          443,
          557,
          286,
          792,
          776,
          283,
          180,
          297,
          606,
          302,
          665,
          354,
          391,
          844,
          473,
          774,
          515,
          147,
          718,
          401,
          774,
          361,
          807,
          281,
          302,
          329,
          723,
          678,
          160,
          440,
          443,
          659,
          474,
          732,
          564,
          174,
          359,
          248,
          197,
          783,
          767,
          587,
          493,
          382,
          497,
          442,
          602,
          188,
          273,
          833,
          656,
          289,
          345,
          734,
          739,
          226,
          515,
          139,
          827,
          257,
          418,
          149,
          856,
          758,
          186,
          295,
          258,
          250,
          802,
          450,
          775,
          416,
          776,
          296,
          379,
          183,
          829,
          341,
          675,
          236,
          184,
          551,
          320,
          562,
          301,
          747,
          840,
          410,
          636,
          822,
          211,
          767,
          634,
          792,
          779,
          799,
          731,
          492,
          290,
          392,
          714,
          225,
          397,
          845,
          776,
          569,
          447,
          317,
          652,
          776,
          648,
          330,
          355,
          637,
          744,
          674,
          588,
          518,
          488,
          365,
          821,
          239,
          387,
          743,
          478,
          197,
          599,
          498,
          259,
          346,
          852,
          505,
          221,
          815,
          198,
          232,
          261,
          292,
          798,
          439,
          370,
          393,
          199,
          724,
          727,
          580,
          848,
          701,
          203,
          851,
          165,
          759,
          249,
          222,
          507,
          363,
          255,
          408,
          217,
          371,
          132,
          760,
          439,
          808,
          414,
          529,
          410,
          311,
          175,
          138,
          459,
          476,
          501,
          695,
          641,
          385,
          764,
          668,
          763,
          773,
          293,
          241,
          278,
          814,
          539,
          727,
          543,
          520,
          664,
          284,
          821,
          270,
          141,
          767,
          825,
          291,
          849,
          547,
          160,
          611,
          637,
          194,
          848,
          376,
          225,
          324,
          577,
          191,
          409,
          249,
          260,
          265,
          533,
          360,
          602,
          130,
          453,
          612,
          554,
          364,
          505,
          584,
          253,
          358,
          554,
          239,
          241,
          846,
          649,
          416,
          580,
          610,
          759,
          587,
          670,
          247,
          377,
          653,
          386,
          768,
          318,
          296,
          417,
          336,
          275,
          828,
          484,
          652,
          720,
          624,
          610,
          489,
          287,
          231,
          760,
          337,
          387,
          262,
          269,
          152,
          270,
          244,
          337,
          688,
          352,
          206,
          313,
          625,
          737,
          154,
          698,
          568,
          334,
          431,
          160,
          504,
          772,
          384,
          198,
          432,
          840,
          808,
          296,
          183,
          463,
          237,
          734,
          665,
          707,
          459,
          398,
          174,
          510,
          201,
          722,
          857,
          485,
          376,
          272,
          715,
          598,
          307,
          252,
          262,
          261,
          532,
          571,
          125,
          467,
          211,
          751,
          495,
          656,
          498,
          632,
          285,
          520,
          542,
          608,
          391,
          599,
          658,
          734,
          780,
          513,
          655,
          821,
          365,
          848,
          177,
          724,
          210,
          667,
          731,
          713,
          690,
          373,
          824,
          449,
          277,
          647,
          597,
          410,
          601,
          813,
          703,
          838,
          778,
          827,
          711,
          477,
          253,
          794,
          685,
          475,
          358,
          807,
          161,
          838,
          204,
          734,
          366,
          500,
          340,
          589,
          785,
          615,
          671,
          692,
          266,
          444,
          161,
          173,
          187,
          542,
          406,
          230,
          659,
          167,
          264,
          819,
          493,
          563,
          548,
          188,
          215,
          343,
          302,
          413,
          682,
          510,
          345,
          538,
          502,
          526,
          840,
          156,
          218,
          707,
          690,
          745,
          707,
          747,
          851,
          629,
          526,
          677,
          488,
          217,
          271,
          588,
          128,
          368,
          155,
          666,
          692,
          185,
          625,
          599,
          464,
          606,
          215,
          693
         ],
         "xaxis": "x",
         "yaxis": "y"
        }
       ],
       "layout": {
        "barmode": "relative",
        "legend": {
         "tracegroupgap": 0
        },
        "margin": {
         "t": 60
        },
        "template": {
         "data": {
          "bar": [
           {
            "error_x": {
             "color": "#2a3f5f"
            },
            "error_y": {
             "color": "#2a3f5f"
            },
            "marker": {
             "line": {
              "color": "#E5ECF6",
              "width": 0.5
             },
             "pattern": {
              "fillmode": "overlay",
              "size": 10,
              "solidity": 0.2
             }
            },
            "type": "bar"
           }
          ],
          "barpolar": [
           {
            "marker": {
             "line": {
              "color": "#E5ECF6",
              "width": 0.5
             },
             "pattern": {
              "fillmode": "overlay",
              "size": 10,
              "solidity": 0.2
             }
            },
            "type": "barpolar"
           }
          ],
          "carpet": [
           {
            "aaxis": {
             "endlinecolor": "#2a3f5f",
             "gridcolor": "white",
             "linecolor": "white",
             "minorgridcolor": "white",
             "startlinecolor": "#2a3f5f"
            },
            "baxis": {
             "endlinecolor": "#2a3f5f",
             "gridcolor": "white",
             "linecolor": "white",
             "minorgridcolor": "white",
             "startlinecolor": "#2a3f5f"
            },
            "type": "carpet"
           }
          ],
          "choropleth": [
           {
            "colorbar": {
             "outlinewidth": 0,
             "ticks": ""
            },
            "type": "choropleth"
           }
          ],
          "contour": [
           {
            "colorbar": {
             "outlinewidth": 0,
             "ticks": ""
            },
            "colorscale": [
             [
              0,
              "#0d0887"
             ],
             [
              0.1111111111111111,
              "#46039f"
             ],
             [
              0.2222222222222222,
              "#7201a8"
             ],
             [
              0.3333333333333333,
              "#9c179e"
             ],
             [
              0.4444444444444444,
              "#bd3786"
             ],
             [
              0.5555555555555556,
              "#d8576b"
             ],
             [
              0.6666666666666666,
              "#ed7953"
             ],
             [
              0.7777777777777778,
              "#fb9f3a"
             ],
             [
              0.8888888888888888,
              "#fdca26"
             ],
             [
              1,
              "#f0f921"
             ]
            ],
            "type": "contour"
           }
          ],
          "contourcarpet": [
           {
            "colorbar": {
             "outlinewidth": 0,
             "ticks": ""
            },
            "type": "contourcarpet"
           }
          ],
          "heatmap": [
           {
            "colorbar": {
             "outlinewidth": 0,
             "ticks": ""
            },
            "colorscale": [
             [
              0,
              "#0d0887"
             ],
             [
              0.1111111111111111,
              "#46039f"
             ],
             [
              0.2222222222222222,
              "#7201a8"
             ],
             [
              0.3333333333333333,
              "#9c179e"
             ],
             [
              0.4444444444444444,
              "#bd3786"
             ],
             [
              0.5555555555555556,
              "#d8576b"
             ],
             [
              0.6666666666666666,
              "#ed7953"
             ],
             [
              0.7777777777777778,
              "#fb9f3a"
             ],
             [
              0.8888888888888888,
              "#fdca26"
             ],
             [
              1,
              "#f0f921"
             ]
            ],
            "type": "heatmap"
           }
          ],
          "heatmapgl": [
           {
            "colorbar": {
             "outlinewidth": 0,
             "ticks": ""
            },
            "colorscale": [
             [
              0,
              "#0d0887"
             ],
             [
              0.1111111111111111,
              "#46039f"
             ],
             [
              0.2222222222222222,
              "#7201a8"
             ],
             [
              0.3333333333333333,
              "#9c179e"
             ],
             [
              0.4444444444444444,
              "#bd3786"
             ],
             [
              0.5555555555555556,
              "#d8576b"
             ],
             [
              0.6666666666666666,
              "#ed7953"
             ],
             [
              0.7777777777777778,
              "#fb9f3a"
             ],
             [
              0.8888888888888888,
              "#fdca26"
             ],
             [
              1,
              "#f0f921"
             ]
            ],
            "type": "heatmapgl"
           }
          ],
          "histogram": [
           {
            "marker": {
             "pattern": {
              "fillmode": "overlay",
              "size": 10,
              "solidity": 0.2
             }
            },
            "type": "histogram"
           }
          ],
          "histogram2d": [
           {
            "colorbar": {
             "outlinewidth": 0,
             "ticks": ""
            },
            "colorscale": [
             [
              0,
              "#0d0887"
             ],
             [
              0.1111111111111111,
              "#46039f"
             ],
             [
              0.2222222222222222,
              "#7201a8"
             ],
             [
              0.3333333333333333,
              "#9c179e"
             ],
             [
              0.4444444444444444,
              "#bd3786"
             ],
             [
              0.5555555555555556,
              "#d8576b"
             ],
             [
              0.6666666666666666,
              "#ed7953"
             ],
             [
              0.7777777777777778,
              "#fb9f3a"
             ],
             [
              0.8888888888888888,
              "#fdca26"
             ],
             [
              1,
              "#f0f921"
             ]
            ],
            "type": "histogram2d"
           }
          ],
          "histogram2dcontour": [
           {
            "colorbar": {
             "outlinewidth": 0,
             "ticks": ""
            },
            "colorscale": [
             [
              0,
              "#0d0887"
             ],
             [
              0.1111111111111111,
              "#46039f"
             ],
             [
              0.2222222222222222,
              "#7201a8"
             ],
             [
              0.3333333333333333,
              "#9c179e"
             ],
             [
              0.4444444444444444,
              "#bd3786"
             ],
             [
              0.5555555555555556,
              "#d8576b"
             ],
             [
              0.6666666666666666,
              "#ed7953"
             ],
             [
              0.7777777777777778,
              "#fb9f3a"
             ],
             [
              0.8888888888888888,
              "#fdca26"
             ],
             [
              1,
              "#f0f921"
             ]
            ],
            "type": "histogram2dcontour"
           }
          ],
          "mesh3d": [
           {
            "colorbar": {
             "outlinewidth": 0,
             "ticks": ""
            },
            "type": "mesh3d"
           }
          ],
          "parcoords": [
           {
            "line": {
             "colorbar": {
              "outlinewidth": 0,
              "ticks": ""
             }
            },
            "type": "parcoords"
           }
          ],
          "pie": [
           {
            "automargin": true,
            "type": "pie"
           }
          ],
          "scatter": [
           {
            "fillpattern": {
             "fillmode": "overlay",
             "size": 10,
             "solidity": 0.2
            },
            "type": "scatter"
           }
          ],
          "scatter3d": [
           {
            "line": {
             "colorbar": {
              "outlinewidth": 0,
              "ticks": ""
             }
            },
            "marker": {
             "colorbar": {
              "outlinewidth": 0,
              "ticks": ""
             }
            },
            "type": "scatter3d"
           }
          ],
          "scattercarpet": [
           {
            "marker": {
             "colorbar": {
              "outlinewidth": 0,
              "ticks": ""
             }
            },
            "type": "scattercarpet"
           }
          ],
          "scattergeo": [
           {
            "marker": {
             "colorbar": {
              "outlinewidth": 0,
              "ticks": ""
             }
            },
            "type": "scattergeo"
           }
          ],
          "scattergl": [
           {
            "marker": {
             "colorbar": {
              "outlinewidth": 0,
              "ticks": ""
             }
            },
            "type": "scattergl"
           }
          ],
          "scattermapbox": [
           {
            "marker": {
             "colorbar": {
              "outlinewidth": 0,
              "ticks": ""
             }
            },
            "type": "scattermapbox"
           }
          ],
          "scatterpolar": [
           {
            "marker": {
             "colorbar": {
              "outlinewidth": 0,
              "ticks": ""
             }
            },
            "type": "scatterpolar"
           }
          ],
          "scatterpolargl": [
           {
            "marker": {
             "colorbar": {
              "outlinewidth": 0,
              "ticks": ""
             }
            },
            "type": "scatterpolargl"
           }
          ],
          "scatterternary": [
           {
            "marker": {
             "colorbar": {
              "outlinewidth": 0,
              "ticks": ""
             }
            },
            "type": "scatterternary"
           }
          ],
          "surface": [
           {
            "colorbar": {
             "outlinewidth": 0,
             "ticks": ""
            },
            "colorscale": [
             [
              0,
              "#0d0887"
             ],
             [
              0.1111111111111111,
              "#46039f"
             ],
             [
              0.2222222222222222,
              "#7201a8"
             ],
             [
              0.3333333333333333,
              "#9c179e"
             ],
             [
              0.4444444444444444,
              "#bd3786"
             ],
             [
              0.5555555555555556,
              "#d8576b"
             ],
             [
              0.6666666666666666,
              "#ed7953"
             ],
             [
              0.7777777777777778,
              "#fb9f3a"
             ],
             [
              0.8888888888888888,
              "#fdca26"
             ],
             [
              1,
              "#f0f921"
             ]
            ],
            "type": "surface"
           }
          ],
          "table": [
           {
            "cells": {
             "fill": {
              "color": "#EBF0F8"
             },
             "line": {
              "color": "white"
             }
            },
            "header": {
             "fill": {
              "color": "#C8D4E3"
             },
             "line": {
              "color": "white"
             }
            },
            "type": "table"
           }
          ]
         },
         "layout": {
          "annotationdefaults": {
           "arrowcolor": "#2a3f5f",
           "arrowhead": 0,
           "arrowwidth": 1
          },
          "autotypenumbers": "strict",
          "coloraxis": {
           "colorbar": {
            "outlinewidth": 0,
            "ticks": ""
           }
          },
          "colorscale": {
           "diverging": [
            [
             0,
             "#8e0152"
            ],
            [
             0.1,
             "#c51b7d"
            ],
            [
             0.2,
             "#de77ae"
            ],
            [
             0.3,
             "#f1b6da"
            ],
            [
             0.4,
             "#fde0ef"
            ],
            [
             0.5,
             "#f7f7f7"
            ],
            [
             0.6,
             "#e6f5d0"
            ],
            [
             0.7,
             "#b8e186"
            ],
            [
             0.8,
             "#7fbc41"
            ],
            [
             0.9,
             "#4d9221"
            ],
            [
             1,
             "#276419"
            ]
           ],
           "sequential": [
            [
             0,
             "#0d0887"
            ],
            [
             0.1111111111111111,
             "#46039f"
            ],
            [
             0.2222222222222222,
             "#7201a8"
            ],
            [
             0.3333333333333333,
             "#9c179e"
            ],
            [
             0.4444444444444444,
             "#bd3786"
            ],
            [
             0.5555555555555556,
             "#d8576b"
            ],
            [
             0.6666666666666666,
             "#ed7953"
            ],
            [
             0.7777777777777778,
             "#fb9f3a"
            ],
            [
             0.8888888888888888,
             "#fdca26"
            ],
            [
             1,
             "#f0f921"
            ]
           ],
           "sequentialminus": [
            [
             0,
             "#0d0887"
            ],
            [
             0.1111111111111111,
             "#46039f"
            ],
            [
             0.2222222222222222,
             "#7201a8"
            ],
            [
             0.3333333333333333,
             "#9c179e"
            ],
            [
             0.4444444444444444,
             "#bd3786"
            ],
            [
             0.5555555555555556,
             "#d8576b"
            ],
            [
             0.6666666666666666,
             "#ed7953"
            ],
            [
             0.7777777777777778,
             "#fb9f3a"
            ],
            [
             0.8888888888888888,
             "#fdca26"
            ],
            [
             1,
             "#f0f921"
            ]
           ]
          },
          "colorway": [
           "#636efa",
           "#EF553B",
           "#00cc96",
           "#ab63fa",
           "#FFA15A",
           "#19d3f3",
           "#FF6692",
           "#B6E880",
           "#FF97FF",
           "#FECB52"
          ],
          "font": {
           "color": "#2a3f5f"
          },
          "geo": {
           "bgcolor": "white",
           "lakecolor": "white",
           "landcolor": "#E5ECF6",
           "showlakes": true,
           "showland": true,
           "subunitcolor": "white"
          },
          "hoverlabel": {
           "align": "left"
          },
          "hovermode": "closest",
          "mapbox": {
           "style": "light"
          },
          "paper_bgcolor": "white",
          "plot_bgcolor": "#E5ECF6",
          "polar": {
           "angularaxis": {
            "gridcolor": "white",
            "linecolor": "white",
            "ticks": ""
           },
           "bgcolor": "#E5ECF6",
           "radialaxis": {
            "gridcolor": "white",
            "linecolor": "white",
            "ticks": ""
           }
          },
          "scene": {
           "xaxis": {
            "backgroundcolor": "#E5ECF6",
            "gridcolor": "white",
            "gridwidth": 2,
            "linecolor": "white",
            "showbackground": true,
            "ticks": "",
            "zerolinecolor": "white"
           },
           "yaxis": {
            "backgroundcolor": "#E5ECF6",
            "gridcolor": "white",
            "gridwidth": 2,
            "linecolor": "white",
            "showbackground": true,
            "ticks": "",
            "zerolinecolor": "white"
           },
           "zaxis": {
            "backgroundcolor": "#E5ECF6",
            "gridcolor": "white",
            "gridwidth": 2,
            "linecolor": "white",
            "showbackground": true,
            "ticks": "",
            "zerolinecolor": "white"
           }
          },
          "shapedefaults": {
           "line": {
            "color": "#2a3f5f"
           }
          },
          "ternary": {
           "aaxis": {
            "gridcolor": "white",
            "linecolor": "white",
            "ticks": ""
           },
           "baxis": {
            "gridcolor": "white",
            "linecolor": "white",
            "ticks": ""
           },
           "bgcolor": "#E5ECF6",
           "caxis": {
            "gridcolor": "white",
            "linecolor": "white",
            "ticks": ""
           }
          },
          "title": {
           "x": 0.05
          },
          "xaxis": {
           "automargin": true,
           "gridcolor": "white",
           "linecolor": "white",
           "ticks": "",
           "title": {
            "standoff": 15
           },
           "zerolinecolor": "white",
           "zerolinewidth": 2
          },
          "yaxis": {
           "automargin": true,
           "gridcolor": "white",
           "linecolor": "white",
           "ticks": "",
           "title": {
            "standoff": 15
           },
           "zerolinecolor": "white",
           "zerolinewidth": 2
          }
         }
        },
        "xaxis": {
         "anchor": "y",
         "domain": [
          0,
          1
         ],
         "title": {
          "text": "x"
         }
        },
        "yaxis": {
         "anchor": "x",
         "domain": [
          0,
          1
         ],
         "title": {
          "text": "count"
         }
        }
       }
      }
     },
     "metadata": {},
     "output_type": "display_data"
    }
   ],
   "source": [
    "# Questao 4\n",
    "\n",
    "vet = np.random.randint(125, 858, 500)\n",
    "px.histogram(x = vet)"
   ]
  },
  {
   "cell_type": "code",
   "execution_count": 33,
   "metadata": {},
   "outputs": [
    {
     "data": {
      "application/vnd.plotly.v1+json": {
       "config": {
        "plotlyServerURL": "https://plot.ly"
       },
       "data": [
        {
         "alignmentgroup": "True",
         "hovertemplate": "y=%{y}<extra></extra>",
         "legendgroup": "",
         "marker": {
          "color": "#636efa"
         },
         "name": "",
         "notched": false,
         "offsetgroup": "",
         "orientation": "v",
         "showlegend": false,
         "type": "box",
         "x0": " ",
         "xaxis": "x",
         "y": [
          200,
          360,
          849,
          286,
          370,
          234,
          762,
          765,
          384,
          508,
          268,
          224,
          196,
          319,
          339,
          220,
          228,
          277,
          691,
          532,
          501,
          835,
          287,
          238,
          127,
          806,
          285,
          696,
          666,
          647,
          652,
          769,
          771,
          458,
          821,
          358,
          792,
          747,
          402,
          286,
          604,
          270,
          400,
          556,
          713,
          659,
          761,
          345,
          594,
          740,
          528,
          386,
          677,
          515,
          190,
          248,
          808,
          230,
          631,
          802,
          140,
          317,
          268,
          385,
          468,
          474,
          643,
          344,
          606,
          164,
          788,
          387,
          678,
          653,
          270,
          626,
          187,
          390,
          691,
          567,
          472,
          685,
          831,
          670,
          135,
          125,
          156,
          696,
          406,
          813,
          529,
          670,
          366,
          213,
          529,
          419,
          433,
          376,
          637,
          405,
          374,
          633,
          712,
          351,
          296,
          699,
          554,
          394,
          259,
          771,
          677,
          543,
          240,
          439,
          618,
          199,
          534,
          274,
          835,
          793,
          534,
          306,
          372,
          531,
          358,
          605,
          645,
          830,
          782,
          291,
          413,
          302,
          291,
          736,
          324,
          793,
          408,
          227,
          710,
          282,
          594,
          214,
          830,
          239,
          623,
          516,
          616,
          303,
          701,
          774,
          464,
          537,
          820,
          737,
          508,
          851,
          835,
          334,
          594,
          647,
          756,
          819,
          538,
          819,
          754,
          730,
          361,
          402,
          802,
          262,
          247,
          509,
          481,
          318,
          365,
          610,
          277,
          496,
          253,
          346,
          524,
          343,
          326,
          448,
          699,
          385,
          717,
          833,
          598,
          207,
          292,
          177,
          314,
          416,
          208,
          521,
          465,
          596,
          231,
          159,
          355,
          643,
          855,
          244,
          300,
          646,
          737,
          358,
          772,
          825,
          780,
          470,
          396,
          333,
          510,
          174,
          277,
          518,
          508,
          575,
          242,
          130,
          834,
          647,
          336,
          349,
          762,
          463,
          316,
          399,
          317,
          433,
          590,
          549,
          710,
          329,
          603,
          382,
          126,
          637,
          283,
          381,
          767,
          503,
          221,
          784,
          708,
          369,
          801,
          573,
          754,
          855,
          603,
          443,
          788,
          786,
          701,
          746,
          315,
          315,
          582,
          569,
          244,
          381,
          790,
          424,
          851,
          342,
          736,
          664,
          217,
          408,
          789,
          440,
          815,
          849,
          152,
          525,
          360,
          207,
          816,
          208,
          507,
          129,
          745,
          360,
          136,
          710,
          558,
          825,
          679,
          394,
          714,
          390,
          791,
          424,
          455,
          220,
          351,
          334,
          223,
          819,
          655,
          215,
          147,
          773,
          840,
          259,
          496,
          695,
          679,
          815,
          189,
          543,
          774,
          857,
          657,
          713,
          824,
          580,
          693,
          233,
          404,
          573,
          404,
          335,
          773,
          811,
          461,
          509,
          341,
          223,
          586,
          527,
          259,
          360,
          493,
          391,
          224,
          398,
          208,
          225,
          232,
          245,
          513,
          650,
          264,
          433,
          817,
          671,
          283,
          356,
          513,
          670,
          388,
          293,
          370,
          791,
          643,
          728,
          429,
          339,
          326,
          266,
          652,
          339,
          590,
          542,
          470,
          846,
          450,
          642,
          202,
          418,
          606,
          389,
          695,
          353,
          819,
          751,
          776,
          553,
          758,
          271,
          522,
          672,
          482,
          633,
          344,
          416,
          699,
          518,
          377,
          183,
          829,
          849,
          479,
          733,
          724,
          377,
          750,
          640,
          423,
          747,
          603,
          833,
          316,
          376,
          225,
          197,
          812,
          543,
          178,
          678,
          187,
          404,
          156,
          269,
          852,
          306,
          326,
          402,
          444,
          439,
          145,
          404,
          803,
          500,
          216,
          478,
          358,
          349,
          194,
          732,
          596,
          690,
          257,
          561,
          651,
          231,
          615,
          196,
          378,
          279,
          184,
          408,
          317,
          310,
          292,
          287,
          623,
          137,
          406,
          180,
          630,
          557,
          453,
          700,
          426,
          237,
          386,
          556,
          659,
          370,
          137,
          296,
          259,
          163,
          568,
          748,
          735,
          387,
          597,
          333,
          273,
          821,
          827,
          655,
          593,
          413,
          473,
          331,
          379,
          625,
          614,
          244,
          726,
          398,
          425,
          387,
          218,
          807,
          480,
          798,
          414,
          549,
          642,
          389,
          470,
          153
         ],
         "y0": " ",
         "yaxis": "y"
        }
       ],
       "layout": {
        "boxmode": "group",
        "legend": {
         "tracegroupgap": 0
        },
        "margin": {
         "t": 60
        },
        "template": {
         "data": {
          "bar": [
           {
            "error_x": {
             "color": "#2a3f5f"
            },
            "error_y": {
             "color": "#2a3f5f"
            },
            "marker": {
             "line": {
              "color": "#E5ECF6",
              "width": 0.5
             },
             "pattern": {
              "fillmode": "overlay",
              "size": 10,
              "solidity": 0.2
             }
            },
            "type": "bar"
           }
          ],
          "barpolar": [
           {
            "marker": {
             "line": {
              "color": "#E5ECF6",
              "width": 0.5
             },
             "pattern": {
              "fillmode": "overlay",
              "size": 10,
              "solidity": 0.2
             }
            },
            "type": "barpolar"
           }
          ],
          "carpet": [
           {
            "aaxis": {
             "endlinecolor": "#2a3f5f",
             "gridcolor": "white",
             "linecolor": "white",
             "minorgridcolor": "white",
             "startlinecolor": "#2a3f5f"
            },
            "baxis": {
             "endlinecolor": "#2a3f5f",
             "gridcolor": "white",
             "linecolor": "white",
             "minorgridcolor": "white",
             "startlinecolor": "#2a3f5f"
            },
            "type": "carpet"
           }
          ],
          "choropleth": [
           {
            "colorbar": {
             "outlinewidth": 0,
             "ticks": ""
            },
            "type": "choropleth"
           }
          ],
          "contour": [
           {
            "colorbar": {
             "outlinewidth": 0,
             "ticks": ""
            },
            "colorscale": [
             [
              0,
              "#0d0887"
             ],
             [
              0.1111111111111111,
              "#46039f"
             ],
             [
              0.2222222222222222,
              "#7201a8"
             ],
             [
              0.3333333333333333,
              "#9c179e"
             ],
             [
              0.4444444444444444,
              "#bd3786"
             ],
             [
              0.5555555555555556,
              "#d8576b"
             ],
             [
              0.6666666666666666,
              "#ed7953"
             ],
             [
              0.7777777777777778,
              "#fb9f3a"
             ],
             [
              0.8888888888888888,
              "#fdca26"
             ],
             [
              1,
              "#f0f921"
             ]
            ],
            "type": "contour"
           }
          ],
          "contourcarpet": [
           {
            "colorbar": {
             "outlinewidth": 0,
             "ticks": ""
            },
            "type": "contourcarpet"
           }
          ],
          "heatmap": [
           {
            "colorbar": {
             "outlinewidth": 0,
             "ticks": ""
            },
            "colorscale": [
             [
              0,
              "#0d0887"
             ],
             [
              0.1111111111111111,
              "#46039f"
             ],
             [
              0.2222222222222222,
              "#7201a8"
             ],
             [
              0.3333333333333333,
              "#9c179e"
             ],
             [
              0.4444444444444444,
              "#bd3786"
             ],
             [
              0.5555555555555556,
              "#d8576b"
             ],
             [
              0.6666666666666666,
              "#ed7953"
             ],
             [
              0.7777777777777778,
              "#fb9f3a"
             ],
             [
              0.8888888888888888,
              "#fdca26"
             ],
             [
              1,
              "#f0f921"
             ]
            ],
            "type": "heatmap"
           }
          ],
          "heatmapgl": [
           {
            "colorbar": {
             "outlinewidth": 0,
             "ticks": ""
            },
            "colorscale": [
             [
              0,
              "#0d0887"
             ],
             [
              0.1111111111111111,
              "#46039f"
             ],
             [
              0.2222222222222222,
              "#7201a8"
             ],
             [
              0.3333333333333333,
              "#9c179e"
             ],
             [
              0.4444444444444444,
              "#bd3786"
             ],
             [
              0.5555555555555556,
              "#d8576b"
             ],
             [
              0.6666666666666666,
              "#ed7953"
             ],
             [
              0.7777777777777778,
              "#fb9f3a"
             ],
             [
              0.8888888888888888,
              "#fdca26"
             ],
             [
              1,
              "#f0f921"
             ]
            ],
            "type": "heatmapgl"
           }
          ],
          "histogram": [
           {
            "marker": {
             "pattern": {
              "fillmode": "overlay",
              "size": 10,
              "solidity": 0.2
             }
            },
            "type": "histogram"
           }
          ],
          "histogram2d": [
           {
            "colorbar": {
             "outlinewidth": 0,
             "ticks": ""
            },
            "colorscale": [
             [
              0,
              "#0d0887"
             ],
             [
              0.1111111111111111,
              "#46039f"
             ],
             [
              0.2222222222222222,
              "#7201a8"
             ],
             [
              0.3333333333333333,
              "#9c179e"
             ],
             [
              0.4444444444444444,
              "#bd3786"
             ],
             [
              0.5555555555555556,
              "#d8576b"
             ],
             [
              0.6666666666666666,
              "#ed7953"
             ],
             [
              0.7777777777777778,
              "#fb9f3a"
             ],
             [
              0.8888888888888888,
              "#fdca26"
             ],
             [
              1,
              "#f0f921"
             ]
            ],
            "type": "histogram2d"
           }
          ],
          "histogram2dcontour": [
           {
            "colorbar": {
             "outlinewidth": 0,
             "ticks": ""
            },
            "colorscale": [
             [
              0,
              "#0d0887"
             ],
             [
              0.1111111111111111,
              "#46039f"
             ],
             [
              0.2222222222222222,
              "#7201a8"
             ],
             [
              0.3333333333333333,
              "#9c179e"
             ],
             [
              0.4444444444444444,
              "#bd3786"
             ],
             [
              0.5555555555555556,
              "#d8576b"
             ],
             [
              0.6666666666666666,
              "#ed7953"
             ],
             [
              0.7777777777777778,
              "#fb9f3a"
             ],
             [
              0.8888888888888888,
              "#fdca26"
             ],
             [
              1,
              "#f0f921"
             ]
            ],
            "type": "histogram2dcontour"
           }
          ],
          "mesh3d": [
           {
            "colorbar": {
             "outlinewidth": 0,
             "ticks": ""
            },
            "type": "mesh3d"
           }
          ],
          "parcoords": [
           {
            "line": {
             "colorbar": {
              "outlinewidth": 0,
              "ticks": ""
             }
            },
            "type": "parcoords"
           }
          ],
          "pie": [
           {
            "automargin": true,
            "type": "pie"
           }
          ],
          "scatter": [
           {
            "fillpattern": {
             "fillmode": "overlay",
             "size": 10,
             "solidity": 0.2
            },
            "type": "scatter"
           }
          ],
          "scatter3d": [
           {
            "line": {
             "colorbar": {
              "outlinewidth": 0,
              "ticks": ""
             }
            },
            "marker": {
             "colorbar": {
              "outlinewidth": 0,
              "ticks": ""
             }
            },
            "type": "scatter3d"
           }
          ],
          "scattercarpet": [
           {
            "marker": {
             "colorbar": {
              "outlinewidth": 0,
              "ticks": ""
             }
            },
            "type": "scattercarpet"
           }
          ],
          "scattergeo": [
           {
            "marker": {
             "colorbar": {
              "outlinewidth": 0,
              "ticks": ""
             }
            },
            "type": "scattergeo"
           }
          ],
          "scattergl": [
           {
            "marker": {
             "colorbar": {
              "outlinewidth": 0,
              "ticks": ""
             }
            },
            "type": "scattergl"
           }
          ],
          "scattermapbox": [
           {
            "marker": {
             "colorbar": {
              "outlinewidth": 0,
              "ticks": ""
             }
            },
            "type": "scattermapbox"
           }
          ],
          "scatterpolar": [
           {
            "marker": {
             "colorbar": {
              "outlinewidth": 0,
              "ticks": ""
             }
            },
            "type": "scatterpolar"
           }
          ],
          "scatterpolargl": [
           {
            "marker": {
             "colorbar": {
              "outlinewidth": 0,
              "ticks": ""
             }
            },
            "type": "scatterpolargl"
           }
          ],
          "scatterternary": [
           {
            "marker": {
             "colorbar": {
              "outlinewidth": 0,
              "ticks": ""
             }
            },
            "type": "scatterternary"
           }
          ],
          "surface": [
           {
            "colorbar": {
             "outlinewidth": 0,
             "ticks": ""
            },
            "colorscale": [
             [
              0,
              "#0d0887"
             ],
             [
              0.1111111111111111,
              "#46039f"
             ],
             [
              0.2222222222222222,
              "#7201a8"
             ],
             [
              0.3333333333333333,
              "#9c179e"
             ],
             [
              0.4444444444444444,
              "#bd3786"
             ],
             [
              0.5555555555555556,
              "#d8576b"
             ],
             [
              0.6666666666666666,
              "#ed7953"
             ],
             [
              0.7777777777777778,
              "#fb9f3a"
             ],
             [
              0.8888888888888888,
              "#fdca26"
             ],
             [
              1,
              "#f0f921"
             ]
            ],
            "type": "surface"
           }
          ],
          "table": [
           {
            "cells": {
             "fill": {
              "color": "#EBF0F8"
             },
             "line": {
              "color": "white"
             }
            },
            "header": {
             "fill": {
              "color": "#C8D4E3"
             },
             "line": {
              "color": "white"
             }
            },
            "type": "table"
           }
          ]
         },
         "layout": {
          "annotationdefaults": {
           "arrowcolor": "#2a3f5f",
           "arrowhead": 0,
           "arrowwidth": 1
          },
          "autotypenumbers": "strict",
          "coloraxis": {
           "colorbar": {
            "outlinewidth": 0,
            "ticks": ""
           }
          },
          "colorscale": {
           "diverging": [
            [
             0,
             "#8e0152"
            ],
            [
             0.1,
             "#c51b7d"
            ],
            [
             0.2,
             "#de77ae"
            ],
            [
             0.3,
             "#f1b6da"
            ],
            [
             0.4,
             "#fde0ef"
            ],
            [
             0.5,
             "#f7f7f7"
            ],
            [
             0.6,
             "#e6f5d0"
            ],
            [
             0.7,
             "#b8e186"
            ],
            [
             0.8,
             "#7fbc41"
            ],
            [
             0.9,
             "#4d9221"
            ],
            [
             1,
             "#276419"
            ]
           ],
           "sequential": [
            [
             0,
             "#0d0887"
            ],
            [
             0.1111111111111111,
             "#46039f"
            ],
            [
             0.2222222222222222,
             "#7201a8"
            ],
            [
             0.3333333333333333,
             "#9c179e"
            ],
            [
             0.4444444444444444,
             "#bd3786"
            ],
            [
             0.5555555555555556,
             "#d8576b"
            ],
            [
             0.6666666666666666,
             "#ed7953"
            ],
            [
             0.7777777777777778,
             "#fb9f3a"
            ],
            [
             0.8888888888888888,
             "#fdca26"
            ],
            [
             1,
             "#f0f921"
            ]
           ],
           "sequentialminus": [
            [
             0,
             "#0d0887"
            ],
            [
             0.1111111111111111,
             "#46039f"
            ],
            [
             0.2222222222222222,
             "#7201a8"
            ],
            [
             0.3333333333333333,
             "#9c179e"
            ],
            [
             0.4444444444444444,
             "#bd3786"
            ],
            [
             0.5555555555555556,
             "#d8576b"
            ],
            [
             0.6666666666666666,
             "#ed7953"
            ],
            [
             0.7777777777777778,
             "#fb9f3a"
            ],
            [
             0.8888888888888888,
             "#fdca26"
            ],
            [
             1,
             "#f0f921"
            ]
           ]
          },
          "colorway": [
           "#636efa",
           "#EF553B",
           "#00cc96",
           "#ab63fa",
           "#FFA15A",
           "#19d3f3",
           "#FF6692",
           "#B6E880",
           "#FF97FF",
           "#FECB52"
          ],
          "font": {
           "color": "#2a3f5f"
          },
          "geo": {
           "bgcolor": "white",
           "lakecolor": "white",
           "landcolor": "#E5ECF6",
           "showlakes": true,
           "showland": true,
           "subunitcolor": "white"
          },
          "hoverlabel": {
           "align": "left"
          },
          "hovermode": "closest",
          "mapbox": {
           "style": "light"
          },
          "paper_bgcolor": "white",
          "plot_bgcolor": "#E5ECF6",
          "polar": {
           "angularaxis": {
            "gridcolor": "white",
            "linecolor": "white",
            "ticks": ""
           },
           "bgcolor": "#E5ECF6",
           "radialaxis": {
            "gridcolor": "white",
            "linecolor": "white",
            "ticks": ""
           }
          },
          "scene": {
           "xaxis": {
            "backgroundcolor": "#E5ECF6",
            "gridcolor": "white",
            "gridwidth": 2,
            "linecolor": "white",
            "showbackground": true,
            "ticks": "",
            "zerolinecolor": "white"
           },
           "yaxis": {
            "backgroundcolor": "#E5ECF6",
            "gridcolor": "white",
            "gridwidth": 2,
            "linecolor": "white",
            "showbackground": true,
            "ticks": "",
            "zerolinecolor": "white"
           },
           "zaxis": {
            "backgroundcolor": "#E5ECF6",
            "gridcolor": "white",
            "gridwidth": 2,
            "linecolor": "white",
            "showbackground": true,
            "ticks": "",
            "zerolinecolor": "white"
           }
          },
          "shapedefaults": {
           "line": {
            "color": "#2a3f5f"
           }
          },
          "ternary": {
           "aaxis": {
            "gridcolor": "white",
            "linecolor": "white",
            "ticks": ""
           },
           "baxis": {
            "gridcolor": "white",
            "linecolor": "white",
            "ticks": ""
           },
           "bgcolor": "#E5ECF6",
           "caxis": {
            "gridcolor": "white",
            "linecolor": "white",
            "ticks": ""
           }
          },
          "title": {
           "x": 0.05
          },
          "xaxis": {
           "automargin": true,
           "gridcolor": "white",
           "linecolor": "white",
           "ticks": "",
           "title": {
            "standoff": 15
           },
           "zerolinecolor": "white",
           "zerolinewidth": 2
          },
          "yaxis": {
           "automargin": true,
           "gridcolor": "white",
           "linecolor": "white",
           "ticks": "",
           "title": {
            "standoff": 15
           },
           "zerolinecolor": "white",
           "zerolinewidth": 2
          }
         }
        },
        "xaxis": {
         "anchor": "y",
         "domain": [
          0,
          1
         ]
        },
        "yaxis": {
         "anchor": "x",
         "domain": [
          0,
          1
         ],
         "title": {
          "text": "y"
         }
        }
       }
      }
     },
     "metadata": {},
     "output_type": "display_data"
    }
   ],
   "source": [
    "px.box(y=vet)"
   ]
  },
  {
   "cell_type": "code",
   "execution_count": null,
   "metadata": {},
   "outputs": [],
   "source": []
  }
 ],
 "metadata": {
  "kernelspec": {
   "display_name": "Python 3.10.8 64-bit (microsoft store)",
   "language": "python",
   "name": "python3"
  },
  "language_info": {
   "codemirror_mode": {
    "name": "ipython",
    "version": 3
   },
   "file_extension": ".py",
   "mimetype": "text/x-python",
   "name": "python",
   "nbconvert_exporter": "python",
   "pygments_lexer": "ipython3",
   "version": "3.10.8"
  },
  "orig_nbformat": 4,
  "vscode": {
   "interpreter": {
    "hash": "362cf15728976fc3cdc2739e57a6f2ddf6fd69954ca58d9197abad4c8a1ea9f1"
   }
  }
 },
 "nbformat": 4,
 "nbformat_minor": 2
}
